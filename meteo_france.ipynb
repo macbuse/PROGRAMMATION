{
 "cells": [
  {
   "cell_type": "code",
   "execution_count": 1,
   "metadata": {},
   "outputs": [],
   "source": [
    "import requests\n",
    "import re\n",
    "import matplotlib.pyplot as plt\n",
    "import time"
   ]
  },
  {
   "cell_type": "code",
   "execution_count": 2,
   "metadata": {},
   "outputs": [],
   "source": [
    "r = requests.get('https://www.meteo60.fr/previsions-meteo-france-grenoble.html')"
   ]
  },
  {
   "cell_type": "code",
   "execution_count": null,
   "metadata": {},
   "outputs": [],
   "source": []
  },
  {
   "cell_type": "code",
   "execution_count": 3,
   "metadata": {},
   "outputs": [],
   "source": [
    "pp = re.compile('<tr>.*?<td>(\\d+).*?'\n",
    "                '<td class=\"temperature\".*?>(\\d+)', \n",
    "               re.DOTALL)\n",
    "\n",
    "px = re.compile('<td.*?class=\"jour\">.*?'\n",
    "                '<span>(\\d+)<', \n",
    "                re.DOTALL)"
   ]
  },
  {
   "cell_type": "code",
   "execution_count": 4,
   "metadata": {},
   "outputs": [
    {
     "data": {
      "text/plain": [
       "['27', '28', '29', '30', '01', '01', '02', '03', '04', '05', '06', '07']"
      ]
     },
     "execution_count": 4,
     "metadata": {},
     "output_type": "execute_result"
    }
   ],
   "source": [
    "px.findall(r.text)"
   ]
  },
  {
   "cell_type": "code",
   "execution_count": 5,
   "metadata": {},
   "outputs": [],
   "source": [
    "tmp = pp.findall(r.text)\n",
    "hh, tt = list(zip(*tmp))"
   ]
  },
  {
   "cell_type": "code",
   "execution_count": 6,
   "metadata": {},
   "outputs": [
    {
     "data": {
      "image/png": "[encoded data removed]",
      "text/plain": [
       "<Figure size 432x288 with 1 Axes>"
      ]
     },
     "metadata": {
      "needs_background": "light"
     },
     "output_type": "display_data"
    }
   ],
   "source": [
    "plt.plot([int(x) for x in tt]);\n",
    "plt.plot([int(x) for x in tt],'rx');"
   ]
  },
  {
   "cell_type": "code",
   "execution_count": 19,
   "metadata": {},
   "outputs": [
    {
     "data": {
      "text/plain": [
       "[('8', '12'),\n",
       " ('11', '17'),\n",
       " ('14', '19'),\n",
       " ('17', '18'),\n",
       " ('20', '16'),\n",
       " ('23', '15'),\n",
       " ('2', '14'),\n",
       " ('5', '13'),\n",
       " ('8', '14'),\n",
       " ('11', '18'),\n",
       " ('14', '21'),\n",
       " ('17', '21'),\n",
       " ('20', '18'),\n",
       " ('23', '16'),\n",
       " ('2', '14'),\n",
       " ('5', '13'),\n",
       " ('8', '14'),\n",
       " ('11', '18'),\n",
       " ('14', '21'),\n",
       " ('17', '21'),\n",
       " ('20', '18'),\n",
       " ('23', '16'),\n",
       " ('2', '14'),\n",
       " ('5', '13'),\n",
       " ('8', '14'),\n",
       " ('11', '19'),\n",
       " ('14', '23'),\n",
       " ('17', '23'),\n",
       " ('20', '20'),\n",
       " ('23', '17'),\n",
       " ('2', '16'),\n",
       " ('5', '10'),\n",
       " ('8', '11'),\n",
       " ('11', '22'),\n",
       " ('14', '26'),\n",
       " ('17', '25'),\n",
       " ('20', '17'),\n",
       " ('23', '14'),\n",
       " ('2', '13'),\n",
       " ('5', '12'),\n",
       " ('8', '13'),\n",
       " ('11', '22'),\n",
       " ('14', '25'),\n",
       " ('17', '24'),\n",
       " ('20', '17'),\n",
       " ('23', '14'),\n",
       " ('2', '13'),\n",
       " ('5', '13'),\n",
       " ('8', '14'),\n",
       " ('11', '24'),\n",
       " ('14', '27'),\n",
       " ('17', '26'),\n",
       " ('20', '18'),\n",
       " ('23', '16'),\n",
       " ('2', '15'),\n",
       " ('5', '15'),\n",
       " ('8', '15'),\n",
       " ('11', '22'),\n",
       " ('14', '26'),\n",
       " ('17', '24'),\n",
       " ('20', '17'),\n",
       " ('23', '14'),\n",
       " ('2', '14'),\n",
       " ('5', '13'),\n",
       " ('8', '14'),\n",
       " ('11', '17'),\n",
       " ('14', '19'),\n",
       " ('17', '15'),\n",
       " ('20', '14'),\n",
       " ('23', '13'),\n",
       " ('2', '12'),\n",
       " ('5', '12'),\n",
       " ('8', '13'),\n",
       " ('11', '13'),\n",
       " ('14', '16'),\n",
       " ('17', '16'),\n",
       " ('20', '14'),\n",
       " ('23', '14'),\n",
       " ('2', '14')]"
      ]
     },
     "execution_count": 19,
     "metadata": {},
     "output_type": "execute_result"
    }
   ],
   "source": [
    "tmp"
   ]
  },
  {
   "cell_type": "code",
   "execution_count": null,
   "metadata": {},
   "outputs": [],
   "source": []
  }
 ],
 "metadata": {
  "kernelspec": {
   "display_name": "Python 3",
   "language": "python",
   "name": "python3"
  },
  "language_info": {
   "codemirror_mode": {
    "name": "ipython",
    "version": 3
   },
   "file_extension": ".py",
   "mimetype": "text/x-python",
   "name": "python",
   "nbconvert_exporter": "python",
   "pygments_lexer": "ipython3",
   "version": "3.6.5"
  }
 },
 "nbformat": 4,
 "nbformat_minor": 2
}

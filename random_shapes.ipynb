{
 "cells": [
  {
   "cell_type": "markdown",
   "metadata": {},
   "source": [
    "# Random blocks\n",
    "\n",
    "\n",
    "\n",
    "Square blocks are dropped into a grid, similar to the game\n",
    "[Connect 4](https://en.wikipedia.org/wiki/Connect_Four).\n",
    "\n",
    " \n",
    "A block starts in some column and \n",
    "falls vertically stopping :\n",
    "\n",
    "- on the bottom of the grid\n",
    "- on another block already on the grid\n",
    "- next to another block already on the grid.\n",
    "\n",
    "so it stops as soon as one of the folowing conditions is satisfied:\n",
    "- there is a block directly below it\n",
    "- there is a block on the left or right\n",
    "- it reaches the bottom of the grid.\n",
    "\n",
    "So major difference with the game **Connect 4**, \n",
    "is that our blocks are “sticky”, \n",
    "i.e. a block will stop\n",
    "as soon as it meets a neighbor on the left or the right.\n",
    "\n"
   ]
  },
  {
   "cell_type": "code",
   "execution_count": 2,
   "metadata": {},
   "outputs": [],
   "source": [
    "import numpy as np\n",
    "import matplotlib.pyplot as plt"
   ]
  },
  {
   "cell_type": "markdown",
   "metadata": {},
   "source": [
    "## make an empty grid"
   ]
  },
  {
   "cell_type": "code",
   "execution_count": 3,
   "metadata": {},
   "outputs": [
    {
     "name": "stdout",
     "output_type": "stream",
     "text": [
      "[[0 0 0 0 0 0 0 0 0 0]\n",
      " [0 0 0 0 0 0 0 0 0 0]\n",
      " [0 0 0 0 0 0 0 0 0 0]\n",
      " [0 0 0 0 0 0 0 0 0 0]\n",
      " [0 0 0 0 0 0 0 0 0 0]\n",
      " [0 0 0 0 0 0 0 0 0 0]\n",
      " [0 0 0 0 0 0 0 0 0 0]\n",
      " [0 0 0 0 0 0 0 0 0 0]\n",
      " [0 0 0 0 0 0 0 0 0 0]\n",
      " [0 0 0 0 0 0 0 0 0 0]]\n"
     ]
    }
   ],
   "source": [
    "X = np.zeros((10,10), dtype=np.int8)\n",
    "print(X)"
   ]
  },
  {
   "cell_type": "markdown",
   "metadata": {},
   "source": [
    "## fill in some cells with 1s"
   ]
  },
  {
   "cell_type": "code",
   "execution_count": 4,
   "metadata": {},
   "outputs": [
    {
     "name": "stdout",
     "output_type": "stream",
     "text": [
      "[[0 0 0 0 0 1 0 0 0 0]\n",
      " [0 0 0 0 0 0 0 0 0 0]\n",
      " [0 0 0 0 0 0 0 0 0 0]\n",
      " [0 0 0 0 0 0 0 0 0 0]\n",
      " [0 0 0 0 0 0 0 0 0 0]\n",
      " [0 0 0 0 0 0 0 0 0 0]\n",
      " [0 0 0 0 0 0 0 0 0 0]\n",
      " [0 0 0 0 0 0 0 0 0 0]\n",
      " [0 0 0 0 0 0 0 0 0 0]\n",
      " [1 1 1 1 1 1 1 1 1 1]]\n"
     ]
    }
   ],
   "source": [
    "X[0,5] = 1\n",
    "X[-1,:] = 1\n",
    "print(X)"
   ]
  },
  {
   "cell_type": "markdown",
   "metadata": {},
   "source": [
    "## writing a function\n",
    "\n",
    "I started writing a function to implement the stopping conditions\n",
    "\n",
    "the blocks stops :\n",
    "1. on the bottom of the grid\n",
    "1. on another block already on the grid\n",
    "1. next to another block already on the grid.\n",
    "\n",
    "but I decided to do it using just numpy operations"
   ]
  },
  {
   "cell_type": "code",
   "execution_count": 40,
   "metadata": {},
   "outputs": [],
   "source": [
    "def to_chk(x):\n",
    "    if 1 < x < 10: \n",
    "        rr = [x - 1 , x, x + 1]\n",
    "    if x == 0: \n",
    "        rr = [0, 1]\n",
    "    if x == 10: \n",
    "        rr = [9,10]\n",
    "    rr.extend([x + 10 for x in rr])\n",
    "    return rr\n",
    "    "
   ]
  },
  {
   "cell_type": "markdown",
   "metadata": {},
   "source": [
    "## Tricks\n",
    "\n",
    "You know in programming there always tricks.\n",
    "\n",
    "A programmer/mathematician must always \n",
    "thinks about how to represent the data first.\n",
    "The way it is represented must make the implementation \n",
    "as elegant as possible.\n",
    "\n",
    "### Representing the grid\n",
    "\n",
    "1. fill the bottom row with blocks\n",
    "1. blocks don't drop in the first and last columns\n",
    "\n",
    "this makes the effective size of the grid smaller \n",
    "but makes the program easier to implement.\n",
    "\n",
    "### Pulling out a subgrid\n",
    "\n",
    "We don't actually have to look \n",
    "at the **whole** grid to find\n",
    "the resting place of the block.\n",
    "To verify the three conditions \n",
    "we only have to look at \n",
    " three columns from the grid\n",
    "\n",
    "1. the one under the block\n",
    "1. the one to the left of the block\n",
    "1. the one to the right \n",
    "\n",
    "So let's make a copy of them:\n",
    "if 0<x is the column number for the block then\n",
    "\n"
   ]
  },
  {
   "cell_type": "code",
   "execution_count": 9,
   "metadata": {},
   "outputs": [],
   "source": [
    "U = grid[:, x-1: x+2]"
   ]
  },
  {
   "cell_type": "markdown",
   "metadata": {},
   "source": [
    "The middle column is special: if there\n",
    "is a block in it we have to stop before we hit it.\n",
    "If we shift the values in this column up one place\n",
    "then the stopping condition becomes symmetric.\n",
    "\n",
    "I actually take a transpose before shifting it \n",
    "so that the column becomes a row."
   ]
  },
  {
   "cell_type": "code",
   "execution_count": null,
   "metadata": {},
   "outputs": [],
   "source": [
    "U = U.T \n",
    "U[1] = np.roll(U[1], -1)   "
   ]
  },
  {
   "cell_type": "markdown",
   "metadata": {},
   "source": [
    "now we look for the index of  the first non zero element in each row"
   ]
  },
  {
   "cell_type": "code",
   "execution_count": null,
   "metadata": {},
   "outputs": [],
   "source": [
    "ys, xs = np.where(U > 0)"
   ]
  },
  {
   "cell_type": "code",
   "execution_count": 59,
   "metadata": {},
   "outputs": [],
   "source": [
    "def find_stop(x, grid): \n",
    "    #make a copy of the 3 cols\n",
    "    U = np.copy( grid[:, x-1: x+2])\n",
    "    # don't need to do this but easier to think this way\n",
    "    U = U.T\n",
    "    # the middle col moves up 1 \n",
    "    U[1] = np.roll(U[1], -1)   \n",
    "    ys, xs = np.where(U > 0)\n",
    "    return min(xs)\n",
    "\n",
    "def grid2im(grid):\n",
    "    return np.stack((1 - grid.astype(np.float).T,)*3).T\n",
    "\n",
    "\n",
    "def mk_shape(size=30,\n",
    "             num_blocks=30*30//3,\n",
    "             anim=False):\n",
    "\n",
    "    grid = np.zeros((size, size), dtype=np.int8)\n",
    "    grid[-1:] = 1 # last line is all 1\n",
    "    \n",
    "    frames = []\n",
    "    for k in range(num_blocks):\n",
    "        x = np.random.randint(1, high=size-1)  \n",
    "        grid[ find_stop(x, grid), x] = 1\n",
    "        if anim : frames.append(np.copy(grid))\n",
    "    \n",
    "    if anim: return frames\n",
    "    return grid\n",
    "    \n",
    "\n"
   ]
  },
  {
   "cell_type": "markdown",
   "metadata": {},
   "source": [
    "## Let's test it\n",
    "\n",
    "not very nice looking at all those numbers ?"
   ]
  },
  {
   "cell_type": "code",
   "execution_count": 61,
   "metadata": {},
   "outputs": [
    {
     "name": "stdout",
     "output_type": "stream",
     "text": [
      "[[0 1 1 1 1 1 1 1 1 1 1 1 1 1 1 1 1 1 1 0]\n",
      " [0 0 1 0 0 1 0 1 0 1 1 0 1 1 1 0 0 0 1 0]\n",
      " [0 1 1 1 1 1 1 1 1 1 1 0 1 1 1 0 0 0 1 0]\n",
      " [0 0 0 0 1 1 0 0 0 1 1 1 1 0 0 0 1 1 1 0]\n",
      " [0 0 0 0 1 1 1 1 0 1 1 0 0 1 1 1 1 1 0 0]\n",
      " [0 0 0 0 0 1 0 0 1 1 1 0 0 0 0 1 1 0 0 0]\n",
      " [0 0 0 0 0 1 1 0 1 1 0 0 0 0 0 1 1 0 0 0]\n",
      " [0 0 0 0 0 0 1 1 1 1 0 0 0 1 1 1 1 0 0 0]\n",
      " [0 0 0 0 0 0 1 1 1 0 0 0 1 1 1 0 1 0 1 0]\n",
      " [0 1 1 1 0 0 0 1 1 0 1 1 0 0 1 1 1 1 1 0]\n",
      " [0 0 1 1 0 0 0 0 1 1 1 1 1 0 1 1 0 0 0 0]\n",
      " [0 1 1 0 0 1 0 0 1 1 0 1 0 0 1 0 0 1 0 0]\n",
      " [0 0 1 1 1 1 0 1 1 1 0 1 1 0 1 0 0 1 0 0]\n",
      " [0 0 0 1 0 1 0 0 1 1 0 0 1 0 1 1 1 1 1 0]\n",
      " [0 0 1 1 1 1 1 1 1 1 0 1 1 0 1 0 0 1 1 0]\n",
      " [0 1 1 0 1 1 0 1 0 0 0 1 1 0 1 1 1 1 1 0]\n",
      " [0 0 1 0 1 0 0 1 0 0 1 1 1 0 0 1 1 1 1 0]\n",
      " [0 0 1 0 1 1 0 1 1 1 1 1 0 0 0 1 1 0 0 0]\n",
      " [0 0 1 0 1 0 0 1 1 0 1 0 0 1 0 1 0 1 0 0]\n",
      " [1 1 1 1 1 1 1 1 1 1 1 1 1 1 1 1 1 1 1 1]]\n"
     ]
    }
   ],
   "source": [
    "print(mk_shape(size=20))"
   ]
  },
  {
   "cell_type": "markdown",
   "metadata": {},
   "source": [
    "## There must be a better way\n",
    "\n",
    "We can use [matplotlib](https://matplotlib.org/) to make things look better"
   ]
  },
  {
   "cell_type": "code",
   "execution_count": 47,
   "metadata": {},
   "outputs": [
    {
     "data": {
      "image/png": "[encoded data removed]",
      "text/plain": [
       "<Figure size 576x576 with 1 Axes>"
      ]
     },
     "metadata": {
      "needs_background": "light"
     },
     "output_type": "display_data"
    }
   ],
   "source": [
    "X, Y  = np.where( mk_shape(size=30, num_blocks=30**2//4) > 0)\n",
    "\n",
    "fig, ax = plt.subplots()\n",
    "fig.set_size_inches(8, 8)\n",
    "\n",
    "ax.plot(Y, -X,'ro')\n",
    "ax.plot(-Y, -X,'bo'); # symmetric copy (rorschach)\n",
    "\n",
    "plt.axis('off');"
   ]
  },
  {
   "cell_type": "markdown",
   "metadata": {},
   "source": [
    "## why not take make an image \n",
    "\n",
    "like a **"
   ]
  },
  {
   "cell_type": "code",
   "execution_count": 49,
   "metadata": {},
   "outputs": [
    {
     "data": {
      "image/png": "[encoded data removed]",
      "text/plain": [
       "<Figure size 720x720 with 1 Axes>"
      ]
     },
     "metadata": {
      "needs_background": "light"
     },
     "output_type": "display_data"
    }
   ],
   "source": [
    "\n",
    "N = 100\n",
    "grid = mk_shape(size=N, \n",
    "                num_blocks=N**2//3)\n",
    "\n",
    "# rgb layers are copies\n",
    "image = np.stack((1 - grid.astype(np.float).T,)*3).T\n",
    "\n",
    "fig, ax = plt.subplots()\n",
    "fig.set_size_inches(10,10)\n",
    "\n",
    "ax.imshow(image) #; kills a stupid message\n",
    "plt.axis('off');\n",
    "\n"
   ]
  },
  {
   "cell_type": "code",
   "execution_count": 58,
   "metadata": {},
   "outputs": [
    {
     "data": {
      "text/html": [
       "<video width=\"432\" height=\"288\" controls autoplay loop>\n",
       "  <source type=\"video/mp4\" src=\"data:video/mp4;base64,AAAAHGZ0eXBNNFYgAAACAGlzb21pc28yYXZjMQAAAAhmcmVlAAAwuG1kYXQAAAKuBgX//6rcRem9\n",
       "5tlIt5Ys2CDZI+7veDI2NCAtIGNvcmUgMTU1IHIyOTE3IDBhODRkOTggLSBILjI2NC9NUEVHLTQg\n",
       "QVZDIGNvZGVjIC0gQ29weWxlZnQgMjAwMy0yMDE4IC0gaHR0cDovL3d3dy52aWRlb2xhbi5vcmcv\n",
       "eDI2NC5odG1sIC0gb3B0aW9uczogY2FiYWM9MSByZWY9MyBkZWJsb2NrPTE6MDowIGFuYWx5c2U9\n",
       "MHgzOjB4MTEzIG1lPWhleCBzdWJtZT03IHBzeT0xIHBzeV9yZD0xLjAwOjAuMDAgbWl4ZWRfcmVm\n",
       "PTEgbWVfcmFuZ2U9MTYgY2hyb21hX21lPTEgdHJlbGxpcz0xIDh4OGRjdD0xIGNxbT0wIGRlYWR6\n",
       "b25lPTIxLDExIGZhc3RfcHNraXA9MSBjaHJvbWFfcXBfb2Zmc2V0PS0yIHRocmVhZHM9NiBsb29r\n",
       "YWhlYWRfdGhyZWFkcz0xIHNsaWNlZF90aHJlYWRzPTAgbnI9MCBkZWNpbWF0ZT0xIGludGVybGFj\n",
       "ZWQ9MCBibHVyYXlfY29tcGF0PTAgY29uc3RyYWluZWRfaW50cmE9MCBiZnJhbWVzPTMgYl9weXJh\n",
       "bWlkPTIgYl9hZGFwdD0xIGJfYmlhcz0wIGRpcmVjdD0xIHdlaWdodGI9MSBvcGVuX2dvcD0wIHdl\n",
       "aWdodHA9MiBrZXlpbnQ9MjUwIGtleWludF9taW49MTYgc2NlbmVjdXQ9NDAgaW50cmFfcmVmcmVz\n",
       "aD0wIHJjX2xvb2thaGVhZD00MCByYz1jcmYgbWJ0cmVlPTEgY3JmPTIzLjAgcWNvbXA9MC42MCBx\n",
       "cG1pbj0wIHFwbWF4PTY5IHFwc3RlcD00IGlwX3JhdGlvPTEuNDAgYXE9MToxLjAwAIAAAAC1ZYiE\n",
       "AD///vdonwKbWkN6gOSVxSXbT4H/q2dwfI/pAwAAAwAArqxz6KZIGF3rxgACbgAFbHIkzharlpvd\n",
       "cRlNhmBTWMjn8dXKjwPP5vpGR2yL9djvM0J7NAbcCfqz4v0zYqzT3gjBNvvB7+RgJd2UZX9DmLgS\n",
       "grpKw4pPHYVYp/ylXSJtfrRuRH0I6NSqlhunIBbQGI92mUOu+HzpDYI25QPhg7keVXMAg/rvB1Fq\n",
       "UQAAAwABBwAAANdBmiNsQ//+qZYAAAvHC34Ms4IAiEfC77q/rGcAEh/s4ff0ZrQnD9I0hgOKX9LC\n",
       "5Ti+C5SghXU3oPqyJQKm8+LxQhbPZDH2y97lh28HFDb3EfquEUvGNQUT9EU5U9bUjcmP3SRClxTJ\n",
       "IWpCXR8Vtsbh01YWcILmp45pBLfetU0so0gb+es2zU3ukZvick37kwSk4tbQNGFJwlQcY7wQLewa\n",
       "u8F2EHfDcNlPghRd/adKEZGKPlHecqxaZ9PhTx1iHABiUrd+v1O/f2G0BJ1HSaQbKz/9MrK/9wAA\n",
       "ACVBnkF4hn8AAAo8lkfYWoNnypc/A6gefwAAHEHapCkU4Q82zoS9AAAAIgGeYmpC/wAADdBgBRtr\n",
       "kdWUlABwXiznA+wZ8jmocmlgruAAAADTQZpnSahBaJlMCH///qmWAAAMZ7pN3/oyqyvSAFxqc//v\n",
       "4DH5J5qA5q4JcbKU5MvzIxbQpoFzCTDFZLIhc+7gbI49lIsj1AJlzmrMrQjkGNBXfL/W+SApxjuo\n",
       "t/FC/VCsf7kOFJwNPAd3cX+pZxOMKgfT4UETEPxhmtZatE4yw4F/3fGo7bj6RYs0k7hC7M3a6eyR\n",
       "XILMB/dQcV+/UF/gdNYjcpws3kPpsTRf1qBCs7mG1l7h0QiFbcREQc2K27Q+VGUtgormzvENc+wA\n",
       "iegxHSl4gQAAADxBnoVFESwz/wAAE+gOCv0qADahg706+7By9ng2t3uVrZ2tCO7XNdlsljUWkok2\n",
       "pmyEkymkoWZyUhrYA2EAAAAYAZ6kdEL/AAAOKzpwUkd8KmdzbMg8RHLBAAAAGAGepmpC/wAAGwiM\n",
       "TrjIIYqOWXiMdqJZ4QAAAIhBmqlJqEFsmUwUTD///qmWAAAME8rqyOos6REapIAEqlK868jo1Ryw\n",
       "udxsClqDH0r//osAA+YL4L9Yol6bOl20NSQvudE2fGdQQ3QhFozCQW+BoohrtAY+Uidl/kbB9TmZ\n",
       "WNeBlCchroxMZIPwGMbJjz06AQ0KvxUAj/5X9jgwQmwim2Vz7rqAAAAAFwGeyGpC/wAAF0nn07dI\n",
       "igCzYTMNuRUQAAAAsEGazUnhClJlMCH//qmWAAAXhABH33gCN5kf/kJxt2F3vJtREG9leP/4rCE/\n",
       "+ad6Azxx/HVphIySjVR6RJPxa2tezc8a4AgHAY50e5Eo/LhcSZyCD+qjF7wgqs+50nxIedbFMWlu\n",
       "u7MzNw/GPZrIXPOQCtVy5igxLooWbwo/fGInNMwQ8L63hT2VhCBIVgXZbYl+ZgfdDkZQZF/Vc8AE\n",
       "gGa5PohREFik2+o1dmrtcv3hAAAAKEGe60U0TDP/AAAUd/4l9nYDG1mA3+8sAHpwq0F3gAC9Klqv\n",
       "Tz71QHcAAAAYAZ8KdEL/AAAa/wV1H8tuItO45pAd7CL4AAAAGQGfDGpC/wAAG6UyIrXuOUoKdSr5\n",
       "8HO+RzEAAADMQZsRSahBaJlMCH///qmWAAAUL4VygMT7009EQAE0YSvKnEQPCp/UXj9/ZWHHwyd8\n",
       "nQLlyKgX5yBCleR9JBW1VJfkvcqAyn0HLjnfKIKK/YSYc97dv3XyKWtPPxTzGWzk04vgdfuf+Tgb\n",
       "GhgulXfbV4Hf+VQHSRSBFqOTM731Wvw+OizGN6eCAba9hmD2IvKEuy5FBpDNvOcowchWEO3SQ0/m\n",
       "QVNKQP9PiHfZd2UkaJDVWnYw65Jsk1vsXWcrhJXRKg0tohO4q88P9OB/AAAAIUGfL0URLDP/AAAT\n",
       "6mk98jKFU7bmaLrz2I4O7gIoFLlG9QAAACIBn050Qv8AABr/BgtOyUQSsNZDQUU92GAAc14s51+A\n",
       "/42AAAAAGAGfUGpC/wAAGwUyIrYAd7j/GWDM4/zRmgAAAJpBm1VJqEFsmUwIf//+qZYAABgh0sfU\n",
       "4+pw/pTLg5XQT+/+g3jAYcNOs5d32f933phORoJS/EIkT7CpGQYX3yaL9imeqbtbrQzgBtFZ7lL/\n",
       "3VCbQlD0JiG333LEjgu1gAFay8r5bF1vf3ldEZz0QlRI/mrwj84ach7kINYK6sgxYvXRQ6YyL+eg\n",
       "eXH9kSIXqA+0hrMg9kaYdwuvAAAAIUGfc0UVLDP/AAAVCmxzJHp3TuvaRArXDji4DlStjwBuQAAA\n",
       "ABcBn5J0Qv8AABr+9KrmhENKuqa1uyDDFQAAABYBn5RqQv8AABxUzoDS18bTkRlluwslAAAAckGb\n",
       "mEmoQWyZTAh///6plgAAGLUSo9umIA4nNQxsrph2SRlka2DIold9407F9TT2RYWEtk6s/FAdf/KK\n",
       "BPgScxP+gjIgzdxyhc7jXzBhP8ILbh7Jkd7A/m00+YCl5HclTm+8mZz6rwY1mdM3GY61RbQ/2AAA\n",
       "ABxBn7ZFFSwz/wAAFZgJ5xRqQBLAY8qK2A6tgO8RAAAAFgGf12pC/wAAHQS+I/7h32hbg+SdSSEA\n",
       "AACKQZvcSahBbJlMCH///qmWAAAUn5cfTDn2eQD81ADhFK88E30jt8saRCjkOX7dxfw3mX8Kr7y7\n",
       "/DTvCqtDI2PA9//QAoT5k60vkMD1G89EiDcS8/d+/gHJgK9dnDTDXqA/GKziUEJgltDk1se6Negc\n",
       "+DcoqnVx5V/pNfmOZ4Rzv+XigUAvQcmmiNCAAAAAH0Gf+kUVLDP/AAAWKBFI3Cl3bQi7SEp+8Dj4\n",
       "Zm5DvYEAAAAUAZ4ZdEL/AAAa/wV1IADfP2lyjmAAAAAWAZ4bakL/AAAdtMzPCCvBHNE34GSN4wAA\n",
       "AEJBmh1JqEFsmUwIf//+qZYAABOfmJrT+Mj+8xvNACSau0jNBdkU1L+QkQRP//ioPJAJ4cpAChfN\n",
       "8H22b6ulRR/kB50AAACHQZohSeEKUmUwIf/+qZYAABlFmRWMYvWQ05t/gywhgDmkqY9OuNgkQyNH\n",
       "HmmIgeOXu9tyKPyzjtDdV6QJ19TaBh/r/9Rhlw0g5P0BT5NmW7guRYWS6Rgr05GRMpxd3Hjr4O7G\n",
       "7GAiY22c/LdAzMzLqeJxjd38V36Mj74U9hr2WMi1ckJR312AAAAALUGeX0U0TDP/AAAWKVme/WzH\n",
       "YR/b410enMoAEIsmbt8BTDwUM87EaeAfiKH+6AAAABUBnn50Qv8AAB2tYDL726m5nshUPuEAAAAT\n",
       "AZ5gakL/AAAdtL4eqFa0aTrpDQAAAJdBmmVJqEFomUwIf//+qZYAABKeV/46tHAAEPiMd9r31jRb\n",
       "fdcHZX/0R7B+cFDhOkqb5OCNl/no0j0W5Q/+btb0XwCGe49tLxRS9NsfO7jwlonuOUk6lQrVOo8X\n",
       "4T5A3CPjbzAZzIY7V6XncgyndgNKiyCrXQH//7wp2OYb52VolPmStAmqi/5CHMsETwMrwIVPoMLL\n",
       "Ch8VAAAAIEGeg0URLDP/AAAS24gIvjPNtG81/mj+MR7JGSaHy3PMAAAAEgGeonRC/wAADN+Cv6SO\n",
       "ZJOUMQAAABcBnqRqQv8AABnFMiK17j1YKA+KP0fvIQAAAFRBmqZJqEFsmUwIf//+qZYAAAyk8l0P\n",
       "/dyrFV4jJd5YXD7Gtl/8OmVnzbcJn+sGvSNzzakt86HkYsGhJRQ3/46CkKob5UdK7A1jP79MrD3C\n",
       "IBBbAeEAAAB4QZrKSeEKUmUwIf/+qZYAABb+Ft+923EARAQF/8v4EXmVDfi26dehqXoGEKtj44qh\n",
       "gfiDUMpKuAcX9m9QtEeY8/4KUzkJRkjUSenE6a1ULVsbBySgiLs8ECiPYQ8Efam+WBNI1U13szWt\n",
       "Rhvf6gRhpJivdK1D65WBAAAAG0Ge6EU0TDP/AAAT5qpqcWyrzx6kHmxWH5yTcAAAABYBnwd0Qv8A\n",
       "ABpe9J9osi9NUvdJTuwwAAAAEAGfCWpC/wAAGwUyH3dlGHMAAAB6QZsNSahBaJlMCH///qmWAAAt\n",
       "vy2edleI7SVqZU6UFgAQhS//f4EnnFQAtRvjmDCPDSUHeh48jAyua5Yr6+VDdWM9qjbD5GwDN8gg\n",
       "Z4v6Jq6qXMhCuzWFtMwtbY1yojt+lajUyxJjDTfAyGsSU5a5PD99fVE2RjUueOQAAAAXQZ8rRREs\n",
       "M/8AACfKC/v66DjvRiVEZoQAAAATAZ9MakL/AAA6CYkzMUMXvQd5VwAAAH5Bm1FJqEFsmUwIf//+\n",
       "qZYAAFt+XHy71dA01+oxM9FuL6t3AAc2d+Pzgzn/HVvJHxUx6EI/dWibmBK9uT2pXhI/m//9RYAB\n",
       "6T3wvCYT2xSXExbIdaAUeTI95A3WLcbsranOMo9dBmdlFBXuXemcK8iUY3x/Be+FtHAeHaPaCEEA\n",
       "AAAcQZ9vRRUsM/8AAE+UF/f407jNSbF5o5ngt+jhkQAAABYBn450Qv8AAGv70p1FQnH8mYn3bnMG\n",
       "AAAAFAGfkGpC/wAAOgmMB01KkU8O4mk4AAAAZkGblEmoQWyZTAh///6plgAAGC+MLIrEt7Hu+iO3\n",
       "uAggBEnPwAOEf2K+ioBgf9hb7LtJUwaDQAqVZ7WCqxN3fIFP/KVBPgS/hRU12KNolUI0aNiN+VSk\n",
       "nZcJNNzUqDHB4WRrSuHIWQAAABtBn7JFFSwz/wAAKzTVWvEXjF5wstorB5BnRMAAAAAUAZ/TakL/\n",
       "AAA6CYwG27lSFLqoHiwAAACIQZvYSahBbJlMCH///qmWAAAylS2fYc/xDpmoAJMrf7nMb99dtoT0\n",
       "yBZABQGfhcBZFNV+OUS6OcYp/RYGqiOByEsF/iVRZiTBOK0NeSnh7lemj8OVDPi5e9mS1yBFMqqR\n",
       "QuY64M9D6NdgjadQKFJL0I1Qu5h7U9dmmXlM4Ixs+aI+xSkXX2fTlQAAABlBn/ZFFSwz/wAALFAV\n",
       "LGpkCqztoGK3MDLAAAAAEQGeFXRC/wAAOfrRpqQ+FYWpAAAAEwGeF2pC/wAAO2l8NHv/P1bmZoEA\n",
       "AAAtQZoaSahBbJlMFEw///6plgAAMVga4L5ia7IM0kqOIWYyAaYH54k7F0UOZJiOAAAAFAGeOWpC\n",
       "/wAAOf72AUaYIZ2AKN0TAAAATEGaPUnhClJlMCH//qmWAAAqiAEeypJ5EE5tWxiTORuTvUGzuiQA\n",
       "UvgX/x/zJ2/KwW2tvCalKqcTokySBBfg7CYURPZAWS1LG/SO3UAAAAAZQZ5bRTRMM/8AACS3EA2e\n",
       "X22NOWR6EIa7gQAAABIBnnxqQv8AADJBf71MP7aEuVMAAABvQZphSahBaJlMCH///qmWAABVOFvw\n",
       "jmiAAsFqpj059xaOzFPDqJ/6hyogeYsJdTpWHnc3/xX+TlAaZUOsyhbWrghzBFBDE0fMldSm3uid\n",
       "NHvPdpFGYE5VnT+UauVckAb2ydwbalqpMVNPIVPKykOAAAAAG0Gen0URLDP/AABJbiAgEBt0FDTE\n",
       "a/O+h48dwAAAABEBnr50Qv8AAC++EOIeg3X87QAAABQBnqBqQv8AAGSC/9gba6pNdQlT4AAAAH1B\n",
       "mqRJqEFsmUwIf//+qZYAAGW2f/COaIAKQhI//pReeaAZGI7y8AwXK3utB5cW50XQPN9sQlTFbaQF\n",
       "xhZ8OgkQMSb1SDKp7XY6eTNpxExfW9l42I/7Bs4pdngOJntpgIvf/6/XffBdGykJfVqS9rsbHOQL\n",
       "MAp7/pg8A269QQAAABtBnsJFFSwz/wAAWJQYC+jn7QflDuOyVxPPXcAAAAASAZ7jakL/AABplMh6\n",
       "oVkiCfGNAAAAUUGa6EmoQWyZTAh///6plgAAV35lURxAAOLZ4XgQ9jHKuKn9IVu781YD9b7q/EGv\n",
       "2ocYH929ZIQ/jLTrxxsu//0qAADaDMmiiErQHOL/9e38wQAAABZBnwZFFSwz/wAAS2Kn9/XLcbrG\n",
       "fvdhAAAAEgGfJXRC/wAAZxX9UGpdnqBURQAAAA8BnydqQv8AADdKfu3lanAAAABmQZssSahBbJlM\n",
       "CH///qmWAABMeV/4RzRAAn95z/8GcQJmtLE++/tRUxeNcMxfkvgamC8aMnFa1kEGwQRQ0X0kGMm5\n",
       "cj5rc+APJj6kvUYDzSWLQ3dnjx01LXj+zWwvavgGGJogQyrwAAAAGEGfSkUVLDP/AABBbiAankRR\n",
       "63DJKJjqbwAAABEBn2l0Qv8AADn6t/Ij7MjmXgAAACMBn2tqQv8AAFrXr5fUESCwAsFFtkSFHV+k\n",
       "mWfj3T+d3s7DgAAAAIhBm29JqEFsmUwIf//+qZYAAFd4W7baUkEACdaegVGpuT0yFN14313KSCzN\n",
       "d/+5x+LyWV1ymR9i9ezV6KdrlhJbZoUhLrNOjTwiRo73lPvx2lUaF7laMvCOof+F01aTCvMIzTrB\n",
       "fGCgTcC0u3zKZ+5hYXtmExgcpHHOnWdBky/wsn9LkpkTuXFRAAAAF0GfjUUVLDP/AABLYqgJfS7z\n",
       "rlc6KTctAAAAEwGfrmpC/wAAWKeApnzYYoQ3oo0AAAByQZuzSahBbJlMCH///qmWAABjNn/+iU+C\n",
       "AK1aqY9KsfvvTCcjQSl+KW7uQ1RtR4RVLCGkXLymW8lW/4VAUGblgVS+qro3HAwO0GfdJcR1VVMw\n",
       "/RyWibtCPz+AhSPIiylbFb//EGLUY3/XUejpLurmLM+AAAAAGkGf0UUVLDP/AABWVGD8qSmQSqDT\n",
       "w0eIIW6AAAAAEAGf8HRC/wAAdBmGmNZt/5UAAAATAZ/yakL/AABug4Csb7xsba6AIAAAAIBBm/dJ\n",
       "qEFsmUwIf//+qZYAAF4RLXka4AVXNCX4KgAnWqdoqscDOzbHI12Vdxn/7FRtqCUOLLFwsPHdbmgo\n",
       "raUtaht+H3uUEucSJP4eZEffu/PCqJ3Zm7aYZf4RyIDoYYC7USvLIP9Lz1UESiL991Jn0uk+TPiJ\n",
       "cqHL/JpawK5npgAAAChBnhVFFSwz/wAAUeBGmBU2dABbPVqlD8z14/syJ4c9uvIKROEXLmofAAAA\n",
       "EwGeNHRC/wAAZxtpvIrPZcjVnfgAAAASAZ42akL/AABulP3bVLUWb73BAAAAaUGaOkmoQWyZTAh/\n",
       "//6plgAAYwjsi7Z4/gAmmnoFRqaHdM0zagDf/bzG2oLpQD918rdKxINgT8FbGnpX4UhAgt/0WZoH\n",
       "DsLozopRev6yj6z1bvdZttcyeF40sbscfaU+YAOigzaI+SFdmQAAADJBnlhFFSwz/wAAVmBBya6F\n",
       "fGIM8ACD+B/Y2F//K3Kixn9wKftXy9O/RpL1XdgIq5mjgAAAABABnnlqQv8AAHP+a+wvQGaPAAAA\n",
       "e0GafEmoQWyZTBRMP//+qZYAAK7wt+Ec0QAFgp6Bc5b09XfiI+Vxcjmk7knOJQC3fc56ziGGZqB1\n",
       "Hr+qWuej4uZWpgIM6CDLEw6X/BaWZcdzYSvMulMw+jv7Sp6bGLsrAbLNHakaSvKeurF5CA6CwsCp\n",
       "QU9d2xar5q6zMAAAABMBnptqQv8AAM4F/7A211SeZaaRAAAAkUGagEnhClJlMCH//qmWAABgJ3Vg\n",
       "AeGPLtDoEDLGTq+6/X22gRiXlEf9uhu9O7lAAvByZ8fUO39kqFgqMNvsxEyBw3b/KbNA7bLl/3vH\n",
       "BDLXi+Rl77WsW/1nzXf4T0hAOTin9TIGObk7XwT3Iwn9iPkcGiYY+gX/6vhoJj+8TGEFgjnV7BHc\n",
       "eLf1ocHZqEBed4EAAAAXQZ6+RTRMM/8AAFQUGBEFI6Rhh0LzXUkAAAARAZ7ddEL/AABxWVcj8Ot/\n",
       "qnwAAAAQAZ7fakL/AABfg5QQN5HLpQAAAHJBmsRJqEFomUwIf//+qZYAAMFs/+CfwADcHl2kskKv\n",
       "2mCikpGXXkh8K250CVxVBalhdl9N3g1/3qAnMzFJBf+0iRlaflSvF9bethWkLgZEPxuSaa5AJaoC\n",
       "9hC3eX2YgS+lBBGJiQ+ZjfHFU5OozfUZmqAAAAAgQZ7iRREsM/8AAKgoMB0Ic/HwgA46F0pzYgzb\n",
       "kxZLpcEAAAARAZ8BdEL/AADisq3PgpvOtfAAAAAUAZ8DakL/AADLw3Gmia1A8tsMVYEAAABsQZsH\n",
       "SahBbJlMCH///qmWAAC8cLf9Gmh0ALZiaBY5QUNSELogvA3HyBGPp+gjJ2j+2ZDNsxJ6v/G8c/+C\n",
       "lCSJ3/fMWfd2HGJ7WIxonTB7j0gf9UIb775F/SRVLDb0EXx5gk9PjcwoMaE5Iq2lAAAAGEGfJUUV\n",
       "LDP/AACjwHDbjIZ6ynuib/+XwQAAABMBn0ZqQv8AAN0pkP1CZE/dF0CBAAAAnUGbS0moQWyZTAh/\n",
       "//6plgAAxmz/7hKuMADi09AuaMtn7aBLTjon7FgOc1D0ViA7V3uY8MkZ4XUNY079v/+qY+KeHC6U\n",
       "K4lthyg1uwrKyQQDCeFsH95L35hRULY6R3f4x6dMGpsBAVa98ZXd3btOg5U/tliD/+VvAdQCsIj+\n",
       "4SygVS2KG2bKqPcF51fuXvpncbv+6oo3erlF30OwVMEAAAAcQZ9pRRUsM/8AAKyoP04orhE7GCoD\n",
       "xMM2ae69wAAAABMBn4h0Qv8AAOgzpwUmquHVB0ghAAAAFAGfimpC/wAA4qZPmC1XnFLx1oKpAAAA\n",
       "dkGbjkmoQWyZTAh///6plgAAwFzbCpX/h5mOABdVtOiLNm65IyoTG2EIBlcL49zT2ofWZq33HjjO\n",
       "R/zdeAx4OnRB7plScmJf/5SRWky2txJqXr+kqhj0gimrbSmfqilYRez+XcoCiDT+PLEB6OrpFALG\n",
       "0+WX4sAAAAAYQZ+sRRUsM/8AAKgooUGEFSz9bNX8OOOBAAAAIwGfzWpC/wAAulC5AA49hqGPJtXj\n",
       "VpH98WK3rGzJpBs3iwfBAAAARkGbz0moQWyZTAh///6plgAAnPK/JF9pU0AAXVdled+CP3Vom5gS\n",
       "vblCxRznkksD/Qs2yleuRgr8veGd7QouPNlv9jflSXkAAABSQZvzSeEKUmUwIf/+qZYAAMpUtndD\n",
       "ndE2mWeqRyx9ABxvVWDNizOkOoQ/wtviN/9IeK5xyNVAVZa048+OfdffdY6XobYv/E13KjTYa607\n",
       "p/G4pgAAABtBnhFFNEwz/wAAsSgZtc70TFHhCbY6dukgQ0wAAAATAZ4wdEL/AADtsq4XtuuHXxPk\n",
       "4QAAABQBnjJqQv8AAOf8+Xrl1f0a9XCbQAAAAIRBmjdJqEFomUwIf//+qZYAAYqpcfUdaW2pqAEf\n",
       "Dpf/4/5k6GFYLbFjvq//CMIOusg4behaY81XRRDcKtHCpn7XtaXoiB0XnrJOzeso1vuNajtw4YH5\n",
       "u1pO7oFM0Sm2GTTPipWvmqtCIeZC3/NmZqOlMEn6HmFrD/D/Onx8S6ipOscYBUUAAAAaQZ5VRREs\n",
       "M/8AAVmA/Y+e5jVKQzFsLMqDQqEAAAASAZ50dEL/AAF0svZKa4bVgHmAAAAAEwGedmpC/wAB0ExM\n",
       "WeJQ6CL6j1kAAAAhQZp4SahBbJlMCH///qmWAACU/WKuJXCdSv9DxRU6pzJdAAAAmkGanEnhClJl\n",
       "MCH//qmWAAGKqXH1AwvK//qGyIsAJauoxz0Q5/6gReiiYj3NOgYAwrcjOCcwhQ7j5vbRDcoswMCa\n",
       "fJve9Nv+MGbhYWMve3TCa6Mok6Yp3bRjiXf1c3Khj7Kq6nAat7joPN+57jIqoYy61tdoS1lnuLrc\n",
       "dKpHpD4s6hAQdaKgkrJYCk0Uxzktg/NJnoBdsP5QnWAAAAAZQZ66RTRMM/8AAVmA3tOxfgmZD3bm\n",
       "PB7i4QAAABIBntl0Qv8AAN02CyHY6PlYHbQAAAASAZ7bakL/AAHP+P8VnQ6nxXB9AAAAj0GawEmo\n",
       "QWiZTAh///6plgABgJpqgA43Dw//X8BuYpA4KwU//4Ndr1Ql1Si60BDyp7KODNdtMwvi1Gbz8A4u\n",
       "L6f/bP/djG/vAcb2q1iyys9oUZLTuUFCtfMi9ZVeG1/8hlapM53l2eCCeuu31Flkc2JzL0hMBQxz\n",
       "nkKChQjwdvjDxHXzJ0BlUer06akPRW2hAAAAGUGe/kURLDP/AAFQgJ5lvI+XHVAkvRDAIeAAAAAU\n",
       "AZ8ddEL/AAF0soK523X3Oliq5jwAAAAhAZ8fakL/AAHFS+HlFEW3XPdiAEJsr5A6RAhwTwUxHJGB\n",
       "AAAAaUGbAUmoQWyZTAh///6plgABgHnFwAW9QLfbGYRVv/3GNnEr/5eYW/EAcE2H5sKkP9+ncIwv\n",
       "71zl7ym9Os+DhzGvVzNrvRYsBr0YGMhOcuk6tVpNHpMSy8JH3XUJPWQ2kJFUKmqUOz14EAAAAJ5B\n",
       "myVJ4QpSZTAh//6plgABgKlyB9wARB///hIzV+WrzYUGE4Rbj99U/KLCrJ7XWrejcFXdneLOclou\n",
       "gRSpoQ9iAAxoqxqSFxYwLg00OBOBwHPRcRqiKDfsLceHoaGPN857aO9bTZuIn7nK/922wRvXYa+h\n",
       "cbKF92iES+XMk6gTVtNUs4eJDglPV0jcyiKinVwGwWx7R0eVnV5QJfdU4QAAABxBn0NFNEwz/wAC\n",
       "W3FwVJDfxSxdRJsGeV+rmVFgAAAAEAGfYnRC/wABxWcYU+nfxekAAAAWAZ9kakL/AAM4p1MgC+la\n",
       "dcRbFLGGSQAAAIlBm2lJqEFomUwIf//+qZYAAYBZ+1xo8n6i2a0EeSoAcIpXnhD7i0dnevmo4iVT\n",
       "cr/+VPkoeZ8bE+vwdNFuBb2SGqY9UWBm6V9BsVxVld5jaP6pfUAk8ec6EPE4P0S6D6ksnT8Ig3cU\n",
       "EpN+1wB+GLZIhzb18f0fT7MygKspUWl5/yoiGZrP/WmqmwAAABpBn4dFESwz/wACW68VFQ4i++/E\n",
       "dCbiu3MBtQAAABMBn6Z0Qv8AAzfgE1sKVytvk7lMAAAAFAGfqGpC/wADOKgZ3pY8vDnRyqCwAAAA\n",
       "eEGbrUmoQWyZTAh///6plgABix3ci3gBa/PD/9/wG5ikyGxqi3GkLyp6l/TVoSl2ze4wPhhbUujm\n",
       "Hes3AlAZi4PFrgfZvTRLGTpAfw+7Kl35/8t0Xp39ZWVd89BWsgoojQvX4S7ORPAsM71by2Xi6UyB\n",
       "gcLq7B/1cQAAABxBn8tFFSwz/wACswIdcwGxEpHElKMqd5mWp0IeAAAAFQGf6nRC/wADN+DYYmzL\n",
       "3DL3zbf4hwAAABYBn+xqQv8AA6CZgprC7Zi1z/t9gm9BAAAAfkGb8UmoQWyZTAh///6plgACt7kl\n",
       "jKEC/ZCIyXBPyjYI+eC/Iv45RFACp7wvAhhr1t2reTey4EdsclPUxuEFnh5Pc01Dy9KkYU8msLvD\n",
       "DV3xJP0laZ/+AwQPQ2Tm/czS6yzRbLd34j3QtMBBmbd89XKX2R5WcAr/6eCWrPuRQQAAADFBng9F\n",
       "FSwz/wACs019oMs/JhAvf8AJI7hac+eXT8TZfwUq3hkB0JHjhsFccUF0LddxAAAAGAGeLnRC/wAD\n",
       "ng+oCTrGsA/UlOEs99xncAAAABcBnjBqQv8AA5U9O4k+rNiWXoMckoTsLAAAAGxBmjNJqEFsmUwU\n",
       "TD///qmWAAFJ7AmAI+T//hJ7b/lrnjXNcxa4L1aAm2h8CdoosRr5bPuH8E8k6k+2wPtcpHEFqlzZ\n",
       "iLY3a5jGxb8P6h5dA3Kh5fwYNROw2fXDfD1grK/rH0iEzT0vjs8f+4EAAAAUAZ5SakL/AAGIDhn1\n",
       "yi3hCsRbLKgAAABuQZpXSeEKUmUwIf/+qZYAArdylXImxpg8kJOaACVWeQQxd4JDUcAb/iAC75Vm\n",
       "H7jSfZX3n6zI6YHU/eDtk1TBFkSSfdxPsKnUTQxNF3yj7Pd0dq5qPz73HORO7xmidypxpmoEzWF2\n",
       "PV/EWvVlLBwAAAAZQZ51RTRMM/8AAltv0vykFtcpTSWPaMSBHwAAABMBnpR0Qv8AAyPelL8dxwSw\n",
       "3yY0AAAAEQGelmpC/wADOKZEcBqwzqA5AAAArUGam0moQWiZTAh///6plgADFmPM0jQAbjCV32RP\n",
       "CIf8ayg0bAO8bcr/+6fG/jLCg8sVan+TtFO6CyR5f+zwvxb4lg5KSndHAWKNIYxEBpjnCkFv721U\n",
       "7FYzvYKrHrVngBr9oqYl+vPrHBAO9Ie/FzjUvqIoNRkLc+sp1CCXs6LLFSVjZFI/SCoqr+0XVKUm\n",
       "8ua6S5OFt+m3AYyhwGbIBAyFSC2SKhUsEuRCfcsbAAAAGUGeuUURLDP/AAKrSojzXZ36Mq/o9tSP\n",
       "JcAAAAASAZ7YdEL/AAOfreVidzRyUHgxAAAAEgGe2mpC/wADn/GnvS6xSXy/WAAAAJxBmt9JqEFs\n",
       "mUwIf//+qZYAAwWz/4Ms4IBMVCV34jf7VQRB4U2HsGO9lvXDpyxduzRCfm4WmheAM7/kh9XWIP/9\n",
       "yhsfJ23bcURjzNmdePDZ2tejOvpYg+Og3a/7A3R3DBQk6Te6mOWqz4+qJNlLqdcWzePwDL2gp32b\n",
       "8ihE9OrMBLZ5NTXM6sEcNkTyPbKzELqce3M1R+Whecy7YEEAAAA1QZ79RRUsM/8ABFbi+DnQ0VfA\n",
       "DYHMYhRUZusHY2jF2T7vTJ1CG0t7DF+ExAdDdhCsUJgLRU0AAAAWAZ8cdEL/AAOJq3+RCioBcFWZ\n",
       "ICehbQAAACYBnx5qQv8ABflOwk5NdhEQqQIEImAAudotIlNlIcNFhOpdlrbKSAAAAJRBmwNJqEFs\n",
       "mUwIf//+qZYAAxhHZFi+3u7QAunhYmm6GRkMO//DzmhWTMeHmnSB8ao5YXO42BS0+iUf/+iwAD5g\n",
       "vhpCt/h+3p0u2hqN53M3ZKD57Sy4sdCVevsrGNngjW3uovvjjDwDTxZI0aTCC3iWxnc45BdFw9zg\n",
       "fx3/UblEpRPttlt5mVfIbud3ynJDXSamZJDhAAAAH0GfIUUVLDP/AARXXZ9NyIktHKKaIchuZWH2\n",
       "IVFws6sAAAAYAZ9AdEL/AAX3wEHS4hIZg6MeYFaTTVSBAAAAEwGfQmpC/wAF+U7MTske+5pSLQQA\n",
       "AACRQZtHSahBbJlMCH///qmWAAUD5cfQAOQw63+3ajdAABOShK8qcRA8Kn9kBv6GiGvWCgV/9fgW\n",
       "WL6bmfaSg9OcLdUr2DnabrdO5v44vVDlOESPcHEyR+qxFVcKM1i4lqdAu+HXZJr0TObgEz5fo3R3\n",
       "nLbXXmuV0pRX1zNDqswiEyd/+XhPOMJ4/VFjsoX9tucHHQAAADNBn2VFFSwz/wAEV12fTciVTHgb\n",
       "a4t4DeBYMQIAIarCnfHe/9iW1gwoKIB9bHX9OVj9LYEAAAAWAZ+EdEL/AAX3wDh1sTXF1unuhn1a\n",
       "DwAAABoBn4ZqQv8ABflMh/9hF6rHAc/Bd50rXkl9YQAAAEBBm4hJqEFsmUwIf//+qZYABjB0sfUA\n",
       "MYW35+o/X+3KeX8iNwJjXgOfb/WpoZUpaotAEPJj8iMG98whFZD5kXkYAAAAiUGbrEnhClJlMCH/\n",
       "/qmWAAZSMesBmoTzcbl9HNgBZYjHeHjO+YKgJXOI+3ZLJoROOT4AvEGCtnx8M38SnAdrf14XFgmg\n",
       "txlTz7YpVs5KETfb7ncEBMOQpTBSyhuLqqVBOoX3zD1hC8//5AHR5K83/DoKX5nu+O0FeNn4dSWG\n",
       "OonvavrMaM36s/emAAAAIUGfykU0TDP/AAWJQFuTfmvfmSxlt0jsYISUkwgLMmN3QQAAABYBn+l0\n",
       "Qv8AB2tW/f47kwlhh3MvFNqAAAAAFAGf62pC/wAHP+XJ7ua7la8+jmLAAAAAhEGb8EmoQWiZTAh/\n",
       "//6plgAFA+Xfu71d963hQi1QunayNlStiQZsRIjEAEMof/+f8CJMKkrDRqTF84tvNfAf+WyRyrWV\n",
       "Xa0F7Vd/HWDfqmD9EUPlIdW3iyAlh4k0QbkyGMX0KlXExPhyHbvd2eN2lNybQ9pfWeS2qilpiUuR\n",
       "MY5vIWkW0QAAACBBng5FESwz/wAEVip985DFI7aGvhlY4zl+C5E0EggUkQAAABQBni10Qv8ABfe9\n",
       "J9kyUI3efKO7KQAAABUBni9qQv8ABa55zncb7X09CIX8hDYAAACBQZo0SahBbJlMCH///qmWAAZY\n",
       "jtTBorsRBdeOtg/sF43IQAkoSP4mpz/1Ai9FExGU/9xon9x6JhEfV/BmFaSgfnZ11i4mDajqWflR\n",
       "mKlTK9mK65/35HtHkZIdJ7FuWer+w6Kb2v3LX6L/7ALnIzTdkHyeJtKsxXg4is1A6s//6KEUAAAA\n",
       "LUGeUkUVLDP/AAWKAnmek+VyaECV5QanK5G+kmodGrOkgAg5H+OzPU1zj27h6QAAABYBnnF0Qv8A\n",
       "Ba0iwnS47/G/TcrjsmQGAAAAGQGec2pC/wAHbS+IlUCgNgY1o7LLWlcAVMAAAABuQZp4SahBbJlM\n",
       "CH///qmWAAylS2fYc/xDpmoAJMrf7nMb9+cysxE86i87nfXDjzkWDRcGUT0LZjGbEj3vBYfef4v4\n",
       "wyRUbBQ8q39EwutudD+YOe5W+HknegouEKs+y0rkijIQecr9UaUHyzFECmkAAAAoQZ6WRRUsM/8A\n",
       "CxKDAIbjYLO7Q/SESpnGF9AmmPQ4l38gLdmsZgBSQAAAABwBnrV0Qv8ADtsq3fPO4D6v4ohL7SCI\n",
       "Wv7QQCVhAAAAFQGet2pC/wAL8p2x3zosgtLb2UyLgQAAAFdBmrpJqEFsmUwUTD///qmWABltn/wj\n",
       "miAA6KEj/3SMrGZwYALMwqwp0cr9tQAdUjPyN4JvW/9gochLUj6//vLYdFJ+M2ObqZdUlLcOBxWw\n",
       "09fsOaCWYUUAAAAaAZ7ZakL/AB2vevAVyOdOGzpAJBjZhqiI/MEAAAA8QZreSeEKUmUwIf/+qZYA\n",
       "AwRHZFjAjt6zEpxmQAgzigEzWmJYcKDbV0yQUPqMNGEZH7aQLMp1oiRr8oeAAAAAO0Ge/EU0TDP/\n",
       "AAWKVw6Ry8zBPlpAAp/Ky0TJhdQ/P8x4/voAjDNQ2+7qGEoDDYW5+CXd/wGCTtKMjYIXAAAAFgGf\n",
       "G3RC/wAHa1xsy/epUUShWazOSTkAAAAWAZ8dakL/AAdtM2ObtV7N6En/8MJLwAAAAGhBmwJJqEFo\n",
       "mUwId//+qZYAGUqOt8WOKhGh6bQvIFC/eJ2c0vDS0Qt2MYhFXRnPXQ8X6ADKi8ZMB9ZWoHYKiKX8\n",
       "gQCSd+2e7NGHyGbUKFFec+OrA7Nt0LDZnT4fHWz+UTzt0Ekm82RnwAAAAClBnyBFESwz/wAWJQX9\n",
       "sFZG1Yy1qFNlzAEbIu9OhYK1Fv6A8x7e91gYsQAAABgBn190Qv8AHa1b+RH2MrJJt/wWBZc0CtgA\n",
       "AAAZAZ9BakL/AAdtMzO43aKl5i2YHRIoLQepgQAAAG9Bm0ZJqEFsmUwIZ//+nhAALDwUxHJLqEDe\n",
       "uxzgYABqv4LSKiNtCJ32YwulpSZ9Ubt2rK9MO5QfCteeY5RYU+XKIgOj16Gex5GrBvtzfg4rhLjB\n",
       "XcTDLg848xqaCnCmiCXBpgrXCP3iN24ji/xMwz4AAAAeQZ9kRRUsM/8ABYqbBUUlJ9Pl+PzFFdMB\n",
       "hcbLN291AAAAGAGfg3RC/wAHa1wUcv+9pvfFpxT2PRLaEQAAABgBn4VqQv8AB20zBTrUqyIzXERc\n",
       "q9FDL1sAAABJQZuHSahBbJlMCF///oywAC374+ZmiHaAC9eFCZY7Var/rxHZvJ9jxjM19lEoXwdr\n",
       "UuBZ3rvixCgjWXzA+Fp26/s1L0xzMvdUXQAADD5tb292AAAAbG12aGQAAAAAAAAAAAAAAAAAAAPo\n",
       "AAAu4AABAAABAAAAAAAAAAAAAAAAAQAAAAAAAAAAAAAAAAAAAAEAAAAAAAAAAAAAAAAAAEAAAAAA\n",
       "AAAAAAAAAAAAAAAAAAAAAAAAAAAAAAAAAAACAAALaHRyYWsAAABcdGtoZAAAAAMAAAAAAAAAAAAA\n",
       "AAEAAAAAAAAu4AAAAAAAAAAAAAAAAAAAAAAAAQAAAAAAAAAAAAAAAAAAAAEAAAAAAAAAAAAAAAAA\n",
       "AEAAAAABsAAAASAAAAAAACRlZHRzAAAAHGVsc3QAAAAAAAAAAQAALuAAAAYAAAEAAAAACuBtZGlh\n",
       "AAAAIG1kaGQAAAAAAAAAAAAAAAAAADIAAAJYAFXEAAAAAAAtaGRscgAAAAAAAAAAdmlkZQAAAAAA\n",
       "AAAAAAAAAFZpZGVvSGFuZGxlcgAAAAqLbWluZgAAABR2bWhkAAAAAQAAAAAAAAAAAAAAJGRpbmYA\n",
       "AAAcZHJlZgAAAAAAAAABAAAADHVybCAAAAABAAAKS3N0YmwAAACzc3RzZAAAAAAAAAABAAAAo2F2\n",
       "YzEAAAAAAAAAAQAAAAAAAAAAAAAAAAAAAAABsAEgAEgAAABIAAAAAAAAAAEAAAAAAAAAAAAAAAAA\n",
       "AAAAAAAAAAAAAAAAAAAAAAAAAAAY//8AAAAxYXZjQwFkABX/4QAYZ2QAFazZQbCWhAAAAwAMAAAD\n",
       "AZA8WLZYAQAGaOvjyyLAAAAAHHV1aWRraEDyXyRPxbo5pRvPAyPzAAAAAAAAABhzdHRzAAAAAAAA\n",
       "AAEAAADIAAADAAAAABRzdHNzAAAAAAAAAAEAAAABAAAGAGN0dHMAAAAAAAAAvgAAAAEAAAYAAAAA\n",
       "AQAADAAAAAACAAADAAAAAAEAAA8AAAAAAQAABgAAAAABAAAAAAAAAAEAAAMAAAAAAQAACQAAAAAB\n",
       "AAADAAAAAAEAAA8AAAAAAQAABgAAAAABAAAAAAAAAAEAAAMAAAAAAQAADwAAAAABAAAGAAAAAAEA\n",
       "AAAAAAAAAQAAAwAAAAABAAAPAAAAAAEAAAYAAAAAAQAAAAAAAAABAAADAAAAAAEAAAwAAAAAAgAA\n",
       "AwAAAAABAAAPAAAAAAEAAAYAAAAAAQAAAAAAAAABAAADAAAAAAEAAAYAAAAAAQAADwAAAAABAAAG\n",
       "AAAAAAEAAAAAAAAAAQAAAwAAAAABAAAPAAAAAAEAAAYAAAAAAQAAAAAAAAABAAADAAAAAAEAAAYA\n",
       "AAAAAQAADwAAAAABAAAGAAAAAAEAAAAAAAAAAQAAAwAAAAABAAAMAAAAAAIAAAMAAAAAAQAADwAA\n",
       "AAABAAAGAAAAAAEAAAAAAAAAAQAAAwAAAAABAAAMAAAAAAIAAAMAAAAAAQAADwAAAAABAAAGAAAA\n",
       "AAEAAAAAAAAAAQAAAwAAAAABAAAJAAAAAAEAAAMAAAAAAQAADAAAAAACAAADAAAAAAEAAA8AAAAA\n",
       "AQAABgAAAAABAAAAAAAAAAEAAAMAAAAAAQAADAAAAAACAAADAAAAAAEAAA8AAAAAAQAABgAAAAAB\n",
       "AAAAAAAAAAEAAAMAAAAAAQAADwAAAAABAAAGAAAAAAEAAAAAAAAAAQAAAwAAAAABAAAMAAAAAAIA\n",
       "AAMAAAAAAQAADwAAAAABAAAGAAAAAAEAAAAAAAAAAQAAAwAAAAABAAAPAAAAAAEAAAYAAAAAAQAA\n",
       "AAAAAAABAAADAAAAAAEAAAwAAAAAAgAAAwAAAAABAAAJAAAAAAEAAAMAAAAAAQAADwAAAAABAAAG\n",
       "AAAAAAEAAAAAAAAAAQAAAwAAAAABAAAPAAAAAAEAAAYAAAAAAQAAAAAAAAABAAADAAAAAAEAAAwA\n",
       "AAAAAgAAAwAAAAABAAAPAAAAAAEAAAYAAAAAAQAAAAAAAAABAAADAAAAAAEAAAwAAAAAAgAAAwAA\n",
       "AAABAAAGAAAAAAEAAA8AAAAAAQAABgAAAAABAAAAAAAAAAEAAAMAAAAAAQAADwAAAAABAAAGAAAA\n",
       "AAEAAAAAAAAAAQAAAwAAAAABAAAGAAAAAAEAAA8AAAAAAQAABgAAAAABAAAAAAAAAAEAAAMAAAAA\n",
       "AQAADwAAAAABAAAGAAAAAAEAAAAAAAAAAQAAAwAAAAABAAAGAAAAAAEAAA8AAAAAAQAABgAAAAAB\n",
       "AAAAAAAAAAEAAAMAAAAAAQAADwAAAAABAAAGAAAAAAEAAAAAAAAAAQAAAwAAAAABAAAPAAAAAAEA\n",
       "AAYAAAAAAQAAAAAAAAABAAADAAAAAAEAAA8AAAAAAQAABgAAAAABAAAAAAAAAAEAAAMAAAAAAQAA\n",
       "CQAAAAABAAADAAAAAAEAAA8AAAAAAQAABgAAAAABAAAAAAAAAAEAAAMAAAAAAQAADwAAAAABAAAG\n",
       "AAAAAAEAAAAAAAAAAQAAAwAAAAABAAAPAAAAAAEAAAYAAAAAAQAAAAAAAAABAAADAAAAAAEAAA8A\n",
       "AAAAAQAABgAAAAABAAAAAAAAAAEAAAMAAAAAAQAADwAAAAABAAAGAAAAAAEAAAAAAAAAAQAAAwAA\n",
       "AAABAAAGAAAAAAEAAA8AAAAAAQAABgAAAAABAAAAAAAAAAEAAAMAAAAAAQAADwAAAAABAAAGAAAA\n",
       "AAEAAAAAAAAAAQAAAwAAAAABAAAPAAAAAAEAAAYAAAAAAQAAAAAAAAABAAADAAAAAAEAAA8AAAAA\n",
       "AQAABgAAAAABAAAAAAAAAAEAAAMAAAAAAQAACQAAAAABAAADAAAAAAEAAA8AAAAAAQAABgAAAAAB\n",
       "AAAAAAAAAAEAAAMAAAAAAQAADwAAAAABAAAGAAAAAAEAAAAAAAAAAQAAAwAAAAABAAAPAAAAAAEA\n",
       "AAYAAAAAAQAAAAAAAAABAAADAAAAAAEAAAYAAAAAHHN0c2MAAAAAAAAAAQAAAAEAAADIAAAAAQAA\n",
       "AzRzdHN6AAAAAAAAAAAAAADIAAADawAAANsAAAApAAAAJgAAANcAAABAAAAAHAAAABwAAACMAAAA\n",
       "GwAAALQAAAAsAAAAHAAAAB0AAADQAAAAJQAAACYAAAAcAAAAngAAACUAAAAbAAAAGgAAAHYAAAAg\n",
       "AAAAGgAAAI4AAAAjAAAAGAAAABoAAABGAAAAiwAAADEAAAAZAAAAFwAAAJsAAAAkAAAAFgAAABsA\n",
       "AABYAAAAfAAAAB8AAAAaAAAAFAAAAH4AAAAbAAAAFwAAAIIAAAAgAAAAGgAAABgAAABqAAAAHwAA\n",
       "ABgAAACMAAAAHQAAABUAAAAXAAAAMQAAABgAAABQAAAAHQAAABYAAABzAAAAHwAAABUAAAAYAAAA\n",
       "gQAAAB8AAAAWAAAAVQAAABoAAAAWAAAAEwAAAGoAAAAcAAAAFQAAACcAAACMAAAAGwAAABcAAAB2\n",
       "AAAAHgAAABQAAAAXAAAAhAAAACwAAAAXAAAAFgAAAG0AAAA2AAAAFAAAAH8AAAAXAAAAlQAAABsA\n",
       "AAAVAAAAFAAAAHYAAAAkAAAAFQAAABgAAABwAAAAHAAAABcAAAChAAAAIAAAABcAAAAYAAAAegAA\n",
       "ABwAAAAnAAAASgAAAFYAAAAfAAAAFwAAABgAAACIAAAAHgAAABYAAAAXAAAAJQAAAJ4AAAAdAAAA\n",
       "FgAAABYAAACTAAAAHQAAABgAAAAlAAAAbQAAAKIAAAAgAAAAFAAAABoAAACNAAAAHgAAABcAAAAY\n",
       "AAAAfAAAACAAAAAZAAAAGgAAAIIAAAA1AAAAHAAAABsAAABwAAAAGAAAAHIAAAAdAAAAFwAAABUA\n",
       "AACxAAAAHQAAABYAAAAWAAAAoAAAADkAAAAaAAAAKgAAAJgAAAAjAAAAHAAAABcAAACVAAAANwAA\n",
       "ABoAAAAeAAAARAAAAI0AAAAlAAAAGgAAABgAAACIAAAAJAAAABgAAAAZAAAAhQAAADEAAAAaAAAA\n",
       "HQAAAHIAAAAsAAAAIAAAABkAAABbAAAAHgAAAEAAAAA/AAAAGgAAABoAAABsAAAALQAAABwAAAAd\n",
       "AAAAcwAAACIAAAAcAAAAHAAAAE0AAAAUc3RjbwAAAAAAAAABAAAALAAAAGJ1ZHRhAAAAWm1ldGEA\n",
       "AAAAAAAAIWhkbHIAAAAAAAAAAG1kaXJhcHBsAAAAAAAAAAAAAAAALWlsc3QAAAAlqXRvbwAAAB1k\n",
       "YXRhAAAAAQAAAABMYXZmNTguMjAuMTAw\n",
       "\">\n",
       "  Your browser does not support the video tag.\n",
       "</video>"
      ],
      "text/plain": [
       "<IPython.core.display.HTML object>"
      ]
     },
     "execution_count": 58,
     "metadata": {},
     "output_type": "execute_result"
    },
    {
     "data": {
      "image/png": "[encoded data removed]",
      "text/plain": [
       "<Figure size 432x288 with 1 Axes>"
      ]
     },
     "metadata": {
      "needs_background": "light"
     },
     "output_type": "display_data"
    }
   ],
   "source": [
    "import  matplotlib.animation\n",
    "from matplotlib import animation\n",
    "\n",
    "from IPython.display import HTML\n",
    "%matplotlib inline\n",
    "\n",
    "def plot_images(img_list):\n",
    "  def init():\n",
    "    img.set_data(img_list[0])\n",
    "    return (img,)\n",
    "\n",
    "  def animate(i):\n",
    "    img.set_data(img_list[i])\n",
    "    return (img,)\n",
    "\n",
    "  fig = plt.figure()\n",
    "  ax = fig.gca()\n",
    "  plt.axis('off')\n",
    "  img = ax.imshow(img_list[0])\n",
    "\n",
    "  anim = animation.FuncAnimation(fig, animate, \n",
    "                                 init_func=init,\n",
    "                                 frames=len(img_list), \n",
    "                                 interval=60, \n",
    "                                 blit=True)\n",
    "  return anim\n",
    "\n",
    "# doing grid2im here saves some space\n",
    "imgs = [ grid2im(x) for x in mk_shape(size=25, num_blocks=200, anim=True)]\n",
    "\n",
    "HTML(plot_images(imgs).to_html5_video())"
   ]
  },
  {
   "cell_type": "code",
   "execution_count": 52,
   "metadata": {},
   "outputs": [
    {
     "name": "stdout",
     "output_type": "stream",
     "text": [
      "[master 9d25dbd] web\n",
      " 1 file changed, 8 insertions(+), 7 deletions(-)\n",
      "Enumerating objects: 5, done.\n",
      "Counting objects: 100% (5/5), done.\n",
      "Delta compression using up to 4 threads\n",
      "Compressing objects: 100% (3/3), done.\n",
      "Writing objects: 100% (3/3), 441 bytes | 147.00 KiB/s, done.\n",
      "Total 3 (delta 2), reused 0 (delta 0)\n",
      "remote: Resolving deltas: 100% (2/2), completed with 2 local objects.\u001b[K\n",
      "To https://github.com/macbuse/PROGRAMMATION.git\n",
      "   e98d913..9d25dbd  master -> master\n"
     ]
    }
   ],
   "source": [
    "! ./.g\n"
   ]
  },
  {
   "cell_type": "code",
   "execution_count": null,
   "metadata": {},
   "outputs": [],
   "source": []
  },
  {
   "cell_type": "code",
   "execution_count": null,
   "metadata": {},
   "outputs": [],
   "source": []
  }
 ],
 "metadata": {
  "kernelspec": {
   "display_name": "Python 3",
   "language": "python",
   "name": "python3"
  },
  "language_info": {
   "codemirror_mode": {
    "name": "ipython",
    "version": 3
   },
   "file_extension": ".py",
   "mimetype": "text/x-python",
   "name": "python",
   "nbconvert_exporter": "python",
   "pygments_lexer": "ipython3",
   "version": "3.6.5"
  }
 },
 "nbformat": 4,
 "nbformat_minor": 2
}

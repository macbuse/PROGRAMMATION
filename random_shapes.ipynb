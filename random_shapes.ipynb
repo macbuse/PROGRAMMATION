{
 "cells": [
  {
   "cell_type": "markdown",
   "metadata": {},
   "source": [
    "# Random blocks\n",
    "\n",
    "\n",
    "\n",
    "Square blocks are dropped into a grid, similar to the game\n",
    "[Connect 4](https://en.wikipedia.org/wiki/Connect_Four).\n",
    "\n",
    "\n",
    "fter choosing a column, a block\n",
    "falls vertically.\n",
    "\n",
    "The blocks stops :\n",
    "- on the bottom of the grid\n",
    "- on another block already on the grid\n",
    "- next to another block already on the grid.\n",
    "\n",
    "so it stops as soon as one of the folowing conditions is satisfied:\n",
    "- there is a block directly below it\n",
    "- there is a block on the left or right\n",
    "- it reaches the bottom of the grid.\n",
    "\n",
    "So major difference with the game “Connect 4”, \n",
    "is that our blocks are “sticky”, \n",
    "i.e. a block stays stuck as soon as it meets a neighbor on the left or the right.\n",
    "\n"
   ]
  },
  {
   "cell_type": "code",
   "execution_count": 2,
   "metadata": {},
   "outputs": [],
   "source": [
    "import numpy as np\n",
    "import matplotlib.pyplot as plt"
   ]
  },
  {
   "cell_type": "markdown",
   "metadata": {},
   "source": [
    "## make an empty grid"
   ]
  },
  {
   "cell_type": "code",
   "execution_count": 3,
   "metadata": {},
   "outputs": [
    {
     "name": "stdout",
     "output_type": "stream",
     "text": [
      "[[0 0 0 0 0 0 0 0 0 0]\n",
      " [0 0 0 0 0 0 0 0 0 0]\n",
      " [0 0 0 0 0 0 0 0 0 0]\n",
      " [0 0 0 0 0 0 0 0 0 0]\n",
      " [0 0 0 0 0 0 0 0 0 0]\n",
      " [0 0 0 0 0 0 0 0 0 0]\n",
      " [0 0 0 0 0 0 0 0 0 0]\n",
      " [0 0 0 0 0 0 0 0 0 0]\n",
      " [0 0 0 0 0 0 0 0 0 0]\n",
      " [0 0 0 0 0 0 0 0 0 0]]\n"
     ]
    }
   ],
   "source": [
    "X = np.zeros((10,10), dtype=np.int8)\n",
    "print(X)"
   ]
  },
  {
   "cell_type": "markdown",
   "metadata": {},
   "source": [
    "## fill in some cells with 1s"
   ]
  },
  {
   "cell_type": "code",
   "execution_count": 4,
   "metadata": {},
   "outputs": [
    {
     "name": "stdout",
     "output_type": "stream",
     "text": [
      "[[0 0 0 0 0 1 0 0 0 0]\n",
      " [0 0 0 0 0 0 0 0 0 0]\n",
      " [0 0 0 0 0 0 0 0 0 0]\n",
      " [0 0 0 0 0 0 0 0 0 0]\n",
      " [0 0 0 0 0 0 0 0 0 0]\n",
      " [0 0 0 0 0 0 0 0 0 0]\n",
      " [0 0 0 0 0 0 0 0 0 0]\n",
      " [0 0 0 0 0 0 0 0 0 0]\n",
      " [0 0 0 0 0 0 0 0 0 0]\n",
      " [1 1 1 1 1 1 1 1 1 1]]\n"
     ]
    }
   ],
   "source": [
    "X[0,5] = 1\n",
    "X[-1,:] = 1\n",
    "print(X)"
   ]
  },
  {
   "cell_type": "markdown",
   "metadata": {},
   "source": [
    "## writing a function\n",
    "\n",
    "I started writing a function to implement the stopping conditions\n",
    "\n",
    "the blocks stops :\n",
    "1. on the bottom of the grid\n",
    "1. on another block already on the grid\n",
    "1. next to another block already on the grid.\n",
    "\n",
    "but I decided to do it using just numpy operations"
   ]
  },
  {
   "cell_type": "code",
   "execution_count": 40,
   "metadata": {},
   "outputs": [],
   "source": [
    "def to_chk(x):\n",
    "    if 1 < x < 10: \n",
    "        rr = [x - 1 , x, x + 1]\n",
    "    if x == 0: \n",
    "        rr = [0, 1]\n",
    "    if x == 10: \n",
    "        rr = [9,10]\n",
    "    rr.extend([x + 10 for x in rr])\n",
    "    return rr\n",
    "    "
   ]
  },
  {
   "cell_type": "code",
   "execution_count": null,
   "metadata": {},
   "outputs": [],
   "source": []
  },
  {
   "cell_type": "markdown",
   "metadata": {},
   "source": [
    "## Tricks\n",
    "\n",
    "1. fill the bottom row with blocks\n",
    "1. blocks don't drop in the first and last columns\n",
    "\n",
    "this makes the effective size of the grid smaller \n",
    "but makes the program easier to implement.\n",
    "\n",
    "## Pull out a subgrid\n",
    "\n",
    "We don't actually have to look \n",
    "at the **whole** grid to find\n",
    "the resting place of the block.\n",
    "To verify the three conditions \n",
    "we only have to look at \n",
    " three columns from the grid\n",
    "\n",
    "1. the one under the block\n",
    "1. the one to the left of the block\n",
    "1. the one to the right \n",
    "\n",
    "So let's make a copy of them:\n",
    "if 0<x is the column number for the block then\n",
    "\n"
   ]
  },
  {
   "cell_type": "code",
   "execution_count": 9,
   "metadata": {},
   "outputs": [],
   "source": [
    "U = grid[:, x-1: x+2]"
   ]
  },
  {
   "cell_type": "markdown",
   "metadata": {},
   "source": [
    "The middle column is special: if there\n",
    "is a block in it we have to stop before we hit it.\n",
    "If we shift the values in this column up one place\n",
    "then the stopping condition becomes symmetric.\n",
    "\n",
    "I actually take a transpose before shifting it \n",
    "so that the column becomes a row."
   ]
  },
  {
   "cell_type": "code",
   "execution_count": null,
   "metadata": {},
   "outputs": [],
   "source": [
    "U = U.T \n",
    "U[1] = np.roll(U[1], -1)   "
   ]
  },
  {
   "cell_type": "markdown",
   "metadata": {},
   "source": [
    "now we look for the index of  the first non zero element in each row"
   ]
  },
  {
   "cell_type": "code",
   "execution_count": null,
   "metadata": {},
   "outputs": [],
   "source": [
    "ys, xs = np.where(U > 0)"
   ]
  },
  {
   "cell_type": "code",
   "execution_count": 5,
   "metadata": {},
   "outputs": [
    {
     "name": "stdout",
     "output_type": "stream",
     "text": [
      "[[0 0 0 0 0 0 0 0 0 0 0 0 0 0 0 0 0 0 0 0 0 0 0 0 0 0 0 0 0 0]\n",
      " [0 0 0 0 0 0 0 0 0 0 0 0 0 0 0 0 0 0 0 0 0 0 0 0 0 0 0 0 0 0]\n",
      " [0 0 0 0 0 0 0 0 0 0 0 0 0 0 0 0 0 0 0 0 0 0 0 0 0 0 0 0 0 0]\n",
      " [0 0 0 0 0 0 0 0 0 1 1 1 0 0 0 0 0 0 0 0 0 0 0 0 0 0 0 0 0 0]\n",
      " [0 0 0 0 0 0 0 0 0 0 1 1 0 0 0 0 0 0 0 0 0 0 0 0 0 0 0 0 0 0]\n",
      " [0 0 0 0 0 0 0 0 0 0 1 0 0 0 0 0 0 0 0 0 0 0 0 0 0 0 0 0 0 0]\n",
      " [0 0 0 0 0 0 0 0 0 0 1 0 1 0 0 1 1 0 0 0 0 0 0 0 0 0 0 0 0 0]\n",
      " [0 0 0 1 1 0 0 0 0 1 1 0 1 0 0 1 0 0 0 0 0 1 1 0 0 0 0 0 0 0]\n",
      " [0 0 0 1 0 0 1 0 0 1 1 1 1 1 1 1 0 0 0 0 1 1 0 0 1 0 0 0 0 0]\n",
      " [0 0 0 1 1 1 1 0 0 0 0 1 1 1 1 1 0 0 0 1 0 1 1 1 1 0 1 0 0 0]\n",
      " [0 0 0 0 1 1 0 0 0 0 0 0 0 0 1 1 0 0 0 1 1 0 1 0 0 0 1 0 0 0]\n",
      " [0 0 0 0 1 1 1 0 0 1 0 0 0 0 1 1 0 1 0 1 0 0 1 0 1 1 1 1 0 0]\n",
      " [0 0 0 0 0 0 1 0 0 1 1 0 0 0 0 1 0 1 0 1 0 0 1 1 1 1 0 0 0 0]\n",
      " [0 1 0 0 1 0 1 0 0 0 1 1 0 0 0 1 0 1 0 1 0 0 1 0 0 0 0 0 0 0]\n",
      " [0 1 1 0 1 1 1 0 0 0 0 1 0 0 0 1 0 1 0 1 1 1 1 1 1 0 0 0 1 0]\n",
      " [0 1 1 1 0 1 1 1 1 1 1 1 0 0 0 1 0 1 0 0 1 1 0 0 0 1 0 0 1 0]\n",
      " [0 1 1 1 0 1 1 1 0 0 0 1 0 0 1 1 0 1 1 0 1 0 0 0 0 1 1 0 1 0]\n",
      " [0 1 1 1 0 0 0 1 1 1 0 1 0 0 1 0 1 1 1 1 1 0 0 0 1 1 1 1 1 0]\n",
      " [0 0 1 1 0 0 0 1 1 1 1 1 1 0 1 0 0 1 1 1 0 0 0 1 1 1 0 0 0 0]\n",
      " [0 0 1 1 0 0 0 1 0 1 1 1 1 0 1 0 0 1 0 0 0 0 0 0 1 0 0 0 0 0]\n",
      " [0 0 0 1 1 1 1 1 1 1 1 0 1 0 1 0 0 1 0 0 0 0 0 0 1 1 0 0 0 0]\n",
      " [0 0 0 1 0 0 0 0 0 1 1 1 1 0 1 0 1 1 0 0 0 0 0 1 1 0 0 0 1 0]\n",
      " [0 0 0 1 0 1 0 0 0 0 0 1 0 0 1 0 1 1 0 0 0 0 0 0 1 1 0 1 1 0]\n",
      " [0 1 0 1 0 1 0 0 1 0 0 1 0 1 1 0 0 1 1 0 0 0 1 0 1 0 0 1 1 0]\n",
      " [0 1 0 1 1 1 0 1 1 1 1 1 0 1 1 1 0 0 1 0 0 0 1 0 1 0 0 1 1 0]\n",
      " [0 1 0 0 1 0 0 1 1 0 1 0 0 0 0 1 1 0 1 0 0 0 1 0 1 0 1 1 1 0]\n",
      " [0 1 0 1 1 0 0 0 1 0 1 0 0 0 0 0 1 0 1 0 0 1 1 1 1 0 0 1 1 0]\n",
      " [0 1 1 1 1 0 1 0 1 1 1 1 0 0 1 0 1 0 1 0 1 1 0 1 1 0 0 1 0 0]\n",
      " [0 1 0 0 1 0 1 1 0 0 1 0 1 1 1 1 1 1 1 0 1 1 1 1 1 1 0 1 0 0]\n",
      " [1 1 1 1 1 1 1 1 1 1 1 1 1 1 1 1 1 1 1 1 1 1 1 1 1 1 1 1 1 1]]\n"
     ]
    }
   ],
   "source": [
    "def find_stop(x, grid): \n",
    "    #make a copy of the 3 cols\n",
    "    U = np.copy( grid[:, x-1: x+2])\n",
    "    # don't need to do this but easier to think this way\n",
    "    U = U.T\n",
    "    # the middle col moves up 1 \n",
    "    U[1] = np.roll(U[1], -1)   \n",
    "    ys, xs = np.where(U > 0)\n",
    "    return min(xs)\n",
    "\n",
    "def grid2im(grid):\n",
    "    return np.stack((1 - grid.astype(np.float).T,)*3).T\n",
    "\n",
    "\n",
    "def mk_shape(size=30,\n",
    "             num_blocks=30*30//3,\n",
    "             anim=False):\n",
    "\n",
    "    grid = np.zeros((size, size), dtype=np.int8)\n",
    "    grid[-1:] = 1 # last line is all 1\n",
    "    \n",
    "    frames = []\n",
    "    for k in range(num_blocks):\n",
    "        x = np.random.randint(1, high=size-1)  \n",
    "        grid[ find_stop(x, grid), x] = 1\n",
    "        if anim : frames.append(grid2im(grid))\n",
    "    \n",
    "    if anim: return frames\n",
    "    return grid\n",
    "    \n",
    "\n",
    "print(mk_shape())"
   ]
  },
  {
   "cell_type": "code",
   "execution_count": 29,
   "metadata": {},
   "outputs": [
    {
     "data": {
      "image/png": "[encoded data removed]",
      "text/plain": [
       "<Figure size 432x288 with 1 Axes>"
      ]
     },
     "metadata": {
      "needs_background": "light"
     },
     "output_type": "display_data"
    }
   ],
   "source": [
    "X, Y  = np.where( mk_shape() > 0)\n",
    "plt.axis('off')\n",
    "plt.plot(Y, -X,'ro')\n",
    "plt.plot(-Y, -X,'bo'); # symmetric copy (rorschach)"
   ]
  },
  {
   "cell_type": "code",
   "execution_count": 21,
   "metadata": {},
   "outputs": [
    {
     "data": {
      "image/png": "[encoded data removed]",
      "text/plain": [
       "<Figure size 432x288 with 1 Axes>"
      ]
     },
     "metadata": {
      "needs_background": "light"
     },
     "output_type": "display_data"
    }
   ],
   "source": [
    "#r,g,b layers are all the same\n",
    "\n",
    "N = 100\n",
    "grid = mk_shape(size=N, num_blocks=N**2//3)\n",
    "\n",
    "image = np.stack((1 - grid.astype(np.float).T,)*3).T\n",
    "\n",
    "plt.axis('off')\n",
    "plt.imshow(image); #; kills a stupid message\n"
   ]
  },
  {
   "cell_type": "code",
   "execution_count": 25,
   "metadata": {},
   "outputs": [
    {
     "data": {
      "text/html": [
       "<video width=\"432\" height=\"288\" controls autoplay loop>\n",
       "  <source type=\"video/mp4\" src=\"data:video/mp4;base64,AAAAHGZ0eXBNNFYgAAACAGlzb21pc28yYXZjMQAAAAhmcmVlAAAxim1kYXQAAAKuBgX//6rcRem9\n",
       "5tlIt5Ys2CDZI+7veDI2NCAtIGNvcmUgMTU1IHIyOTE3IDBhODRkOTggLSBILjI2NC9NUEVHLTQg\n",
       "QVZDIGNvZGVjIC0gQ29weWxlZnQgMjAwMy0yMDE4IC0gaHR0cDovL3d3dy52aWRlb2xhbi5vcmcv\n",
       "eDI2NC5odG1sIC0gb3B0aW9uczogY2FiYWM9MSByZWY9MyBkZWJsb2NrPTE6MDowIGFuYWx5c2U9\n",
       "MHgzOjB4MTEzIG1lPWhleCBzdWJtZT03IHBzeT0xIHBzeV9yZD0xLjAwOjAuMDAgbWl4ZWRfcmVm\n",
       "PTEgbWVfcmFuZ2U9MTYgY2hyb21hX21lPTEgdHJlbGxpcz0xIDh4OGRjdD0xIGNxbT0wIGRlYWR6\n",
       "b25lPTIxLDExIGZhc3RfcHNraXA9MSBjaHJvbWFfcXBfb2Zmc2V0PS0yIHRocmVhZHM9NiBsb29r\n",
       "YWhlYWRfdGhyZWFkcz0xIHNsaWNlZF90aHJlYWRzPTAgbnI9MCBkZWNpbWF0ZT0xIGludGVybGFj\n",
       "ZWQ9MCBibHVyYXlfY29tcGF0PTAgY29uc3RyYWluZWRfaW50cmE9MCBiZnJhbWVzPTMgYl9weXJh\n",
       "bWlkPTIgYl9hZGFwdD0xIGJfYmlhcz0wIGRpcmVjdD0xIHdlaWdodGI9MSBvcGVuX2dvcD0wIHdl\n",
       "aWdodHA9MiBrZXlpbnQ9MjUwIGtleWludF9taW49MTYgc2NlbmVjdXQ9NDAgaW50cmFfcmVmcmVz\n",
       "aD0wIHJjX2xvb2thaGVhZD00MCByYz1jcmYgbWJ0cmVlPTEgY3JmPTIzLjAgcWNvbXA9MC42MCBx\n",
       "cG1pbj0wIHFwbWF4PTY5IHFwc3RlcD00IGlwX3JhdGlvPTEuNDAgYXE9MToxLjAwAIAAAADFZYiE\n",
       "AD///vdonwKbWkN6gOSVxSXbT4H/q2dwfI/pAwAAAwAArqxz6KZIGF3rxgACbgAFbHIkzharlpvd\n",
       "cRlgGhiwn46wf6YAECSp0WfrsO0scBD8x1c2HSyxCaxnms2vwGn8+CyAlcLhXjJ7OIZyMc5pO75o\n",
       "M3vFgqFDRR4dKmH/RdUEPxQVZuFM1zQJAY4TRZPEZy6LO1mEERrOBMmWUTx12qy+88DxzEdduzlu\n",
       "kQdBVWSHngbggjTfsnWaPxAAAAMAroEAAAD6QZokbEP//qmWAAAMts/CpJjaoAbZvIubsjtfns4D\n",
       "Xhv3EMaCjBVJ8TfL3IPHvZZ85Dz/8AEYSvxt2p/lpWxyUq6BpVL5q2Slo0ZXZ+bhsF31An0mWSN9\n",
       "4qyfsC2Yf8puuAJ7MBaxARQfwvaCuLkwWv8RkzFX0UP7Np6JLlmVCFdr5eGe9sPOZYSjaLybk9PQ\n",
       "pNXTnqVaZ3thPxKFzTYS1ZFrP0pCMW5EOZJ4fxwaPGn+JFDzg0J2ssGanTaJAbanmiCROjLQHhgU\n",
       "oSyATn1dDUWolfhbGhBXezZ+UR85GquPNBMj2Q+LiJfL6zYOPunWcLThX0ps/LivWAAAADZBnkJ4\n",
       "hn8AAAsTVTWX0mkoNfA5khENF9PNeAANhTl2vf55C5Ryu1xTpkLFqPlqD/bM4Afh5tEAAAAWAZ5h\n",
       "dEL/AAAL82C0fh13VB6VIdMusAAAACYBnmNqQv8AAA7aXwx0TAA7QW8ztR7+UPEpTa9xWeXyzHCm\n",
       "jRz1MQAAAP5BmmhJqEFomUwIf//+qZYAAAwPb6sJgkMtADj0C3/VLD8e0l/HVp4nH+Dxw6/DPjNj\n",
       "6BjQ351HQZzJVTMWbs+dCGCOQ9MTW48cI5XoBmzViD+r0Cxgq6Jwni9oDMzjhNLMVLjzM0bcG6hQ\n",
       "OLfuZebxy1qg6adaTn8ewDfO8IbLJIxJkHF4T8OtMf5OiAJnVTfTad5kFFTcAhCgj46jeM6PgoyS\n",
       "Qd+ANefBVCNkeNCl8IBdDSE91C/ET4BHD7EewN8OHOsR3fC8H0j7OoNwgoDwo80FBkG4n6VMRmrr\n",
       "8LGpJ/NodQHvdd4Qf8K1ZrwicbQnEeK8D0ePJ+tCTB81wQAAACxBnoZFESwz/wAAFipqrBiL0uAW\n",
       "NkX8MG1WfxGZSbIAB1acrfvRXZjJp8eVpQAAABsBnqV0Qv8AAA4mrf9IUVYBe4Bbf57ioyGtK4kA\n",
       "AAAXAZ6nakL/AAAMkqDHBarJUin5BM2Hk5gAAACmQZqsSahBbJlMCH///qmWAAAK4xIErZFdjl37\n",
       "3vYQA2z7v/7/gTtFFiRo4ID0oDEfI/Kcan5JbOpCikDAfi55mvShx2yjH/DgNrim7lwbgtlsYicw\n",
       "b/+IJNJa0lDxNrZdLyLNApYc83TOF6lvBctQ3L5pgsNsiXMyBlfT6TK+mguNWBQSy6U28nQeJz1d\n",
       "GBjLTL3Y/bPIp5FH0m/OMpoEHSLVfi3PvQAAACRBnspFFSwz/wAAFipre4Tnf+AF2GZhFk0q6Ssl\n",
       "vwt0YhmLjaEAAAAYAZ7pdEL/AAAM33pRDcDg5o+rhodm9vvAAAAAFwGe62pC/wAAF+U6OJyx772I\n",
       "+FfGOcjLAAAA6EGa8EmoQWyZTAh///6plgAADGZ33/2uj4qYAPiZ2kVdKo7DizSMD2c9Albv6r4X\n",
       "nKU9J9hB5nA2pVnAhHEbPv3k68hHdPo9L71OMIAUW3yDPP7t//94RtcBB5pAdNJR+ipkLYHNkmNr\n",
       "8ggNwVxHPpGs2kC4cMw0IJ2cIb6pxNLn6ppHimHUQyT2By7CN2bIeXdog+WnrTG0pBDNEBAmDVl3\n",
       "WPlTwWcg9EBPBylInzrPBxPOLUpwwY2h3wr0fLec3+R2nKfEqv4z4gWu0M50mQDMsGTW6fu7P2kZ\n",
       "R14pILgTL7z2/c7wdoEAAAAiQZ8ORRUsM/8AABYqaT3ZOVn6BBR3fKBzCczmGiMUBI+V1QAAABgB\n",
       "ny10Qv8AABffAOC3akVhWXr1Xv3sEoMAAAAZAZ8vakL/AAAdBMpppDIcwd4uq/Rw1JyKgAAAAGpB\n",
       "mzNJqEFsmUwIf//+qZYAABjB0sgqPgA1dSP4jRKo6D3P/mVhx/7G5PAytiITZ9Y2NZwUdB81g+V0\n",
       "gTrlBjvGH6QkYPwTsfIBcmFKgCr0PYs/4jvBkNX28wqXT2plIRUI2gCa9en5Hr4wAAAAIUGfUUUV\n",
       "LDP/AAAWKmilkTIjQpPGbVVhgk8IiSYXbnRdEQAAABgBn3JqQv8AAB20yfeHz114uQ/1LKQ7qV4A\n",
       "AABIQZt3SahBbJlMCH///qmWAAAYwjtS4Sb3onuHq6dD5R58jz4KMWRcm5QAiaTopZ/o5IJURi6v\n",
       "Cj++1Fgd3HkCanWTb+EHEzGXAAAAJ0GflUUVLDP/AAAWKmilkTd2J6wrzx90tMbZExer+JmkSGwT\n",
       "tUPZeQAAABkBn7R0Qv8AAB2tYC9/6/v/OaRlwQ7o2RiAAAAAGgGftmpC/wAAHbTJ94Ya8YzASFNc\n",
       "eRmFTaKBAAAAX0Gbu0moQWyZTAh///6plgAAGCI8jzRUlw5EZQmcAPgA2T52kZYty8En3bPVSCf/\n",
       "seISBS0uC2jNC+Gm3mVxEgbJZwir1ePdswgjCjSGuLuYeZEgqnAX/PY2hFrtGpuxAAAAH0Gf2UUV\n",
       "LDP/AAAWKmxwvWJ8WKy7MGH80AAob5LjIiYAAAAaAZ/4dEL/AAAdrXIrKUSSSwK6IovEuVI8wmsA\n",
       "AAAWAZ/6akL/AAAdtM51AMQ9aAWYw3sh5QAAAH5Bm/9JqEFsmUwIf//+qZYAADFVLZ+AHX/4Sltz\n",
       "hR7p/EfSfg/qeqyIi8ujVgDE5u6Dy2Y91ZfoAEZBCfEw3e38wRU/9bDZJv1ba5Q9PcS5Kt2qBt9j\n",
       "+huZHUU0pencQlguBoeRpCb5wOHjk4eFjoUyAdBInUfmC5yvk9B964EAAAAiQZ4dRRUsM/8AACsw\n",
       "G/jmkUqTM4q08//7xTMvw5m3r6BuwQAAABkBnjx0Qv8AAB2tW/vMSSKxQcPXuFwllCRgAAAAGgGe\n",
       "PmpC/wAAOgvSloInfctADEidl7/jrKZUAAAAhUGaI0moQWyZTAh///6plgAAYzZ/9wcj1AC2EJH/\n",
       "uH5zvx9x/RDFNtOJOJD5FshK1s+sVgJbPPsbPlBMWRY2rJR//uVBOxUhAAv8l79joUez7y5pLXlW\n",
       "u7PgVF/EuGlaU0V3cBQi6Swxzo5hzn7esgmVZC+FXlUAY4loNcrY7C1RxVoNrcUAAAAiQZ5BRRUs\n",
       "M/8AAFZUF/HIB1Ygtw7uNNBCeVl5M3yFOc7YEAAAACsBnmB0Qv8AAHKoI3AC3DShMknfGN6+r2ed\n",
       "KS+ur86CJ7XD0Bjvd6AeZzepAAAAGgGeYmpC/wAALFPRF4ZUNxJdXfOtJabyRqtgAAAAiUGaZ0mo\n",
       "QWyZTAh///6plgAAZSMesul/yEyV+WukuZJldACLR8LwIVr1qaXh2uj7qXC98S4IhszTCQMXpocL\n",
       "chFYsi8Z/a+n/BXPcNXVRCPKx9jd5+dJR8dDmnILnNgxyLTs0fBekqvHS3xrxka610gBc4Y//zdG\n",
       "Apw8rELinf5LBjzoQX284RVBAAAAPkGehUUVLDP/AABYoCeUlKYjq0tmsGujyVLsgybhQ0crKRLg\n",
       "A0PoITzjrw0R7vnAhf+r5aD+A7byo01no4rdAAAAHQGepHRC/wAALEkYBTsBwFvdqYEXtBJGNcFS\n",
       "tKZhAAAAHwGepmpC/wAAdr3rwFdIJIS+eiNXTQjqVuGhRRpEczsAAAClQZqrSahBbJlMCH///qmW\n",
       "AABlLRKTj3qf3mgBLJlQCZrNa0MEigb/5PMcPdMuJYhK5iKqBUc29gUUfm13SX8GWfk7l8LHp+r8\n",
       "kzIdSyA0y51LIxMKldUuN6nO6eyAgWKUWYcYQPtBM5VjE9jSnnEeF1dQ3LBycBEK8wBWdbvLbJCr\n",
       "MM5hPyrvdl5Nluzzp0HkKpR5O2HqZ0E7KT1py5Hy3F31Kb1ZAAAAJ0GeyUUVLDP/AABYoCeVrK6K\n",
       "10A9WKTMHuagMOjpVUgMCgdrp1xrmAAAAB0Bnuh0Qv8AACxJGAU7ASGXebHhb+ZlBbXDRdfjOwAA\n",
       "ABwBnupqQv8AAHbS+H2312rkmbq1Jiq7731+9aXgAAAAfkGa70moQWyZTAh///6plgAAGAubfnrs\n",
       "tKRFlkOJ8AHxipj0SEc0PmvIIqAmntwj/8ossw11YFR3Zv2AfSEhOZ/LnT+L0LIl7/IZXDdPaMCn\n",
       "TUlKhqjUaeHDLz59mhy682hjBnUxvn/duaAh1n3/retzh8C45tX3W9xMQAkwmAAAAEJBnw1FFSwz\n",
       "/wAAH8YIEPWEqX+kYt0AgALV7VJb8lRjwz/si8RH/jvJFw42sINaSZF/QhdqUIMRSGOWKGm5RZPo\n",
       "VG0AAAAdAZ8sdEL/AAAsSRfVh1XNO4TRcH89MLZgebdhtnUAAAAZAZ8uakL/AAAsU9DoDmhpCxr1\n",
       "l7xojIAUUQAAADBBmzNJqEFsmUwIf//+qZYAAGLB/NL+HD0NbtcK/ObUbwTrEMU8ABV3zymVM5XD\n",
       "32AAAAAxQZ9RRRUsM/8AAFZgN1J4lt/Ic1INaIVulLaloAQLlPbt8MSbO/IwZZxy70VX1fBVSwAA\n",
       "ABoBn3B0Qv8AADJNr8uEzPCxADunZJvKolyK+QAAABoBn3JqQv8AAHP+QBuzATnIzdT/0MD8jRBk\n",
       "/wAAAHhBm3dJqEFsmUwIf//+qZYAAMts/+Ec0QAHRMqBc5b0159Snf5w5ekC8dWjmy5oSJpFhEG3\n",
       "jb60XJlPA8/+xENbA+gfg0uZ7hn6ZuGHFtoghqzdpDQuSrC9Kl2CM+SSa6Qh6YbIDpacftjRbXZB\n",
       "HantC0ZNQjXJfXIAAAAkQZ+VRRUsM/8AALFATykpS7ftdKtUJuQsnedzgX4SZ7mTKD+hAAAAGAGf\n",
       "tHRC/wAALEkYBTgSH7eFUC4m3UJexwAAABsBn7ZqQv8AAO2l8PVCsu3vuftVDomHuunW5mEAAABW\n",
       "QZu5SahBbJlMFEw///6plgAAYtDLZYl3haJVo5R7c/oy5ozgBbJKmPQhH7q0TcwJXtyhzUrAQljA\n",
       "/0LNspXrkYK/Mud+1uT3mUxfJRjdNIL0HV1zA4EAAAAcAZ/YakL/AABz/evRlTU1IblhCU4ChOP7\n",
       "4IAzogAAAIRBm91J4QpSZTAh//6plgAAZSlC4177V81a2L8BwBCWWa5N8u8X8ZJeg6yw/BQyz/+C\n",
       "VgUOcBawdv37Ot/NnBsCPrwwNdy8h2kgkPAXF1G3oR9qq4MyyotpA86Kz9wvVU9JVU7BO4BfEBTb\n",
       "bUUOiaKevhKnUYka4F4kMJmjebPkCYtJW4EAAAAhQZ/7RTRMM/8AAFQUP2tIxGkp0CTOiGWiejEi\n",
       "mT1abwGhAAAAFwGeGnRC/wAAcTWjzU1nweRxAHRRkmqZAAAAGQGeHGpC/wAANgqFAVhKxiclxmzu\n",
       "9noiwIEAAABQQZoBSahBaJlMCH///qmWAAAqnC3tyHLBACWlL/+/wL7Id+L9q14QwslwDQbh76IU\n",
       "nmbUohrCK1WlxRholIpq9bOUSddYMpzyq9IlDlC5a1cAAAAeQZ4/RREsM/8AACfU2HzFaus3VJ8A\n",
       "CITB6qKepzFJAAAAFwGeXnRC/wAANf4PNAu9RWrsu1v9apfxAAAAFwGeQGpC/wAANgp++eGcCZkN\n",
       "Q8FIUzFgAAAAXUGaRUmoQWyZTAh///6plgAAylS4+NEncob0cAEsoSP+4Bne+TG9FFEvvm50Y9k2\n",
       "H1ECZdYPo531OMir0T4yCFG2kCd7EroXHlzzbRAXRJwhwjEkt76qP2V5xflfwQAAACFBnmNFFSwz\n",
       "/wAAsSgv7MoRwBlA1WkX2VJo7RuESVDlgekAAAAaAZ6CdEL/AADtsq3v35yDDJxQ2GM+pwEQa3cA\n",
       "AAAXAZ6EakL/AAA3SmREtAJABxhMnEPqUu0AAABgQZqJSahBbJlMCH///qmWAADFg/mmAHMAG6GP\n",
       "IscoJDJCZy/Tj/6dRIPe8Mya1htljFBppXvxjuFWP8nHy5KBhi8mCbtyMRsYFEEVchXK3oHLmLSE\n",
       "042m2lRBbK38MIEtAAAAIUGep0UVLDP/AACswE8rNALVgsJomVfqcHFWJcwEdnwSgwAAABgBnsZ0\n",
       "Qv8AADa7mWbPRAiklNpdufn6/CkAAAAWAZ7IakL/AADn+/z3+h8jDYK3TBoYsAAAAEVBms1JqEFs\n",
       "mUwIf//+qZYAAE55X/gn8AAoN2V54V2z9WtY6y/Q54/OsVVouXXO+Y4xbQT2YPbBlz4ToYVxKgDz\n",
       "thNTNyEAAAAjQZ7rRRUsM/8AAKhTVSPYXJCa+uWGD1CECT3cw/4cpvSUA/IAAAAbAZ8KdEL/AADi\n",
       "a0YajkJzWgtJRlYbNM5Ia7hYAAAAFgGfDGpC/wAA4qYscpoySaMfFLIssB8AAABAQZsRSahBbJlM\n",
       "CH///qmWAABgR1zG6j/X2Sfw9VS4gE10MD/4M4gTNaWJ99+ebdlWU4aN7rmhdk+YxFNgsdE+UQAA\n",
       "ACJBny9FFSwz/wAAqFNTPMxzO2tmFlreU+tKBliE+1iQWZkRAAAAGAGfTnRC/wAA4mtGnsJmSpYj\n",
       "gQvl8ARBlQAAABcBn1BqQv8AAOKmJMCtnB9+w1Pj6jiykgAAAL5Bm1VJqEFsmUwIf//+qZYAAZbZ\n",
       "/8I5ogAT/tv/8HBwKJgItg/1g1NzQUXScxKvt2jVEgHxCcZ4OeTkwdOIq/evAIvAfLdtv9hX/hkx\n",
       "vECl64JenaPyo9moYrenuJCVbTbduLN84u2FEK+DgDzQLbn5rpe4lJvvqMdTjqRsc4vC2XX87jw0\n",
       "gK+f/Dc7ZZtfaE15SKpT6Bvd93DDscrXqZ9/zlenpfAX8HdjLDXGzX+efX3DLrKLF/ekz1r54DKh\n",
       "AAAAJkGfc0UVLDP/AAFigJ5SUpJHK1iJBgzOmenL/+KQj95OZrjTWo/5AAAAGwGfknRC/wAA4mtF\n",
       "2o5CzQOl3ZxZGYhKDNOzIAAAABsBn5RqQv8AAdr3rwFbZwfvU+ybHoWLiJaxqE0AAABrQZuZSahB\n",
       "bJlMCH///qmWAAC8cLfh8Tc8AJatp0RSizigMGQAlhrTYmDBeOqBAAXrhLY0BLW7A7XJhf/4tgAZ\n",
       "T4fDTxY5v+/MT49OXpkw8yoNYg/TtwvCueeZVeOFZXuAwsEJXrTPxF+9j4AAAAAkQZ+3RRUsM/8A\n",
       "AKhTSeqBwmPIVlap8r0LHNdl+pSaWPSILQ6JAAAAGAGf1nRC/wAA4mtH5a5nogAgu7lk5vg9gQAA\n",
       "ABwBn9hqQv8AAOKl30VxpCt/2rwnExJO8BA0rFqYAAAAnUGb3UmoQWyZTAh///6plgAAu7FKdsJK\n",
       "oGRWt3ABb1rJImay9FDQKX32A58/8G3Bz61OsumsP/axITUWD/FgErNL13OVANWoJ8vwgxc0Lwf+\n",
       "kO4zl3lA5Evuz6Jsc/1rcbtanwwzFooOhiHv+G4LYT7L3O9qbOzaB7sG4Op8rCTjWQIdiV3Ql8AR\n",
       "IEB8Q1CABzeHe4mo0DsPVGeTXYEAAAAjQZ/7RRUsM/8AAKhTRSdV5shot/IGkg9KauBrhBJlDVC4\n",
       "m9QAAAAaAZ4adEL/AADiawAQm/aNnH+LjxpBUljSsxkAAAAbAZ4cakL/AADipjDV7KnlEcTmKtZH\n",
       "k6nhBsCBAAAAckGaH0moQWyZTBRMP//+qZYAALt26sAJauoxz0Q5/6gReiiYjyvj//jwTaE948pV\n",
       "nxRcUb+FqC4H69ZXnbekv/Q6DfM6oTx7OS6O9W7PRDClQ9n5afTtWZls+rS8yrf/yO66F50hmkgd\n",
       "KAdhbuTfPsGNQAAAAB4Bnj5qQv8AAOLESQgyWTPpliu6Ly4qC/chTh9lpPQAAACBQZojSeEKUmUw\n",
       "If/+qZYAAJzyv/DzCMAHStp0UikE+m1bSB52Hp3pEX0OytcCFzluOOQ4POzDz53/8HDIiYIjd/xI\n",
       "NW/uEa38xPBqSMxkLEH+3Msdd3I9T/ZaBFlOLDZtpnHgth8HSgGrNm6IQNDhbBVPmXOVRvvROtw2\n",
       "b1isImJtAAAAJEGeQUU0TDP/AACoSuAn1n1TBAzPnnwRmAnvaiNU0O6yIKA6IAAAAB0BnmB0Qv8A\n",
       "AOJra1nq2y3hMrBfVFqegAaZ+fCYgQAAABkBnmJqQv8AAOKmU000FWzIYMXenkOASt3RAAAAeUGa\n",
       "ZkmoQWiZTAh///6plgABiwfzS/hu5+/4cZnP4Kb6AD+jy7RVY4Gdm2ORrsqtb7YWVG40P4/X/8VO\n",
       "GngJMuqlrhNFnA54bUgSsIRud/f8kxtFWXumOUymqceZVOXAiegmrQznEWgR4w29LldwNYJO+mE+\n",
       "AiePzzEAAAAjQZ6ERREsM/8AAVlQ5f2HwEkNUdyMN+ReX00ezFFygxaAKGEAAAAZAZ6lakL/AADi\n",
       "e9eArrG3ItnVYUX2xAZt5QAAADhBmqdJqEFsmUwIf//+qZYAAXbqaoARlOr//n/An0QLNR73/ocF\n",
       "fP0OZuzMqFYy9SidHcqIeOXQwQAAAJRBmstJ4QpSZTAh//6plgABd2scfKfrt8B3bVDsVTdLtfAt\n",
       "8JBkiISu+gvlszeaGvlc+eq92Ne/B1NUIWFkINYeAOObhm6KsRH/7qALTgYeLCLkCm7fBXIFEFz4\n",
       "mc43rB9jfjArSb54ucTyjQou8G8t5X/COzDhw50KHB96yCBT5RD/cqCueBHIPVNo050kIJzdBGfc\n",
       "AAAAJkGe6UU0TDP/AAFHUF8oOVHjIRWuap0BnjERUKpqW9VH0Bx6MwUEAAAAGwGfCHRC/wABue9K\n",
       "bW9W0QJViFhut4MsvgCvgQAAABoBnwpqQv8AAOKl8PupJdIEhTxLKdcHLzN44AAAAGNBmw9JqEFo\n",
       "mUwIf//+qZYAAYDJ+R6qPGXJXHXuhIAWHh4f/j/mToYVgtsZQKfadW3txM4vB9WAvbklONHZIm+k\n",
       "P9HJ/+tgHutv/PySh0nJAamTzDhUy9WeFDB27EvyBJL2WYAAAAAmQZ8tRREsM/8AAVCAnjjpgb63\n",
       "OleNaqlXBUPY6EbZrsj+RClAR0EAAAAYAZ9MdEL/AADONl11NcOj80K5S/puRpaBAAAAGQGfTmpC\n",
       "/wABxUvhi3ZermUEMZ6VQdWMZ4EAAABaQZtSSahBbJlMCH///qmWAAGAqXHy71dnXJdjg2MtAIPT\n",
       "0C74cfCpzcjPJQUixWsh+IXGb8X18dWiZ78hWxf3VZRP+QBbHilCyCn/B3388UOfwgW7FCqmYv+A\n",
       "AAAAJUGfcEUVLDP/AAFQUGBFGj9FXdZ6WDGjw5cUCNWYGceS6iDAWMAAAAAZAZ+RakL/AADOBgA+\n",
       "CRq0k8h9fAC1xqv9IQAAAIxBm5ZJqEFsmUwIf//+qZYAAwFTEEjQ+rYdCcT+XyYAWnQld96IYyue\n",
       "Z6lQu5Vw632qV/9U+PYmURh0ZdYxD80LWVIb3fIF2m50IzJDeEwJM1AjOrBvOsEcP+WqTVMlivnd\n",
       "JuaXZH6J36LPemzP3Q9JfriqUJNbFNodHuEs7AklvyPd1LwAlviHNJmyKgAAAClBn7RFFSwz/wAF\n",
       "HgN/DweI8CAJJv0vY/+NNxoc/PYLAoTIHcLS64bR4wAAABsBn9N0Qv8AA4mrfv8dsULkVjBOMId+\n",
       "sZ0nOpcAAAAbAZ/VakL/AAbpTo4mtLWKg3Dx7B7+K/vD+VIwAAAAYEGb2kmoQWyZTAh///6plgAC\n",
       "3888s4u064NK8jqVNQ5+kMchppS2rst76H10lACwD3f/xhDKuWy0iyn1BNy8i7uOwngVsoP2jI50\n",
       "yNDpwFStJR6ABlY8JOpc6ZR7lF6HgQAAAEFBn/hFFSwz/wAFHpqk0IjgtwAEI5T2pMzXpr1WLD7/\n",
       "udizBO3b+EYpAJkDNIeiCZHOTFu2wM3UBTKjL6IwIUBnwQAAABwBnhd0Qv8ABue/6nrdn3a0wTb6\n",
       "CtYcUUxyt1JAAAAAHgGeGWpC/wAG6U5rf5dYLgFxxL+LHYx1A7fK7kyzzwAAAJlBmh5JqEFsmUwI\n",
       "f//+qZYAAtzWNqkfACVSled95Y01eixvNqTxwj//UWFmeknWzvr/4P1A5KERDBYXv71HyJVfhJqN\n",
       "NSsrgSH3gkxmjipk63AYzQZjMGiRYgujJY2x9VZwqyj2cmPWclmODtA+u6+NB7tCFUtwENTTGBb0\n",
       "iYGZOb4IpSkmUqyvn8n6tNneWCs/+VCtO+IBl8AAAAAwQZ48RRUsM/8ABR6aq2EZAdb0q9+JgAIO\n",
       "PLte/uYr2BPznxAIOPQXhJvVNqBtoBFLAAAAGwGeW3RC/wAG57/qajkIYXPfXCJkuNy7Pz+LuQAA\n",
       "AB0Bnl1qQv8ABulOiK+aLVKKkXhKkOpjXrDSNMniBgAAALdBmkJJqEFsmUwIf//+qZYAAwCytKfx\n",
       "zABtn3f/3/AnaKLEgr0W5RjvqzcgMXhWFMokgVwZDzzCl8KchUDI1m0IEVeCKf7hPrwf+DeuovU2\n",
       "tWDBoHJn99zXCOpjALWuvS94Q7ZepPMco6CbiM9iYPPtH4BPpPxRAuPLLVr+a4W3a2y3hiB+YUOU\n",
       "e4rRHxGGLzd5kjkLtJNd1rFvXAQzOeb0ZgE74rthpjWD0VyTeO6JYy3VbcNXSoAAAAAnQZ5gRRUs\n",
       "M/8ABUICpadjbfiqc/iMSHIvrZPAVlZjQ1Ve0LahbShtAAAAGwGen3RC/wAG58AIlLogjH8JYnkF\n",
       "yUXOwsjagAAAABsBnoFqQv8ABxUvh6ovamboZ4D8AMhOcZs6toEAAAB8QZqGSahBbJlMCHf//qmW\n",
       "AALwYA29uiF3srPTQAtOYlcY/63UNhJ5BEa94X23+vII9emm/6/cogh054svCdERfoAOK9QNGH6T\n",
       "iApodx+x1iO8wir5vZUY+n/l/GHUocV+ddRCnoj6hd2AWh5OEyU8KCUuHXaiiaRNcm3DeAAAACJB\n",
       "nqRFFSwz/wAFQppF6mFELiwlVhb0lhV6sVycnRP38ZHzAAAAGgGew3RC/wAHE1b+RqN2z4ijDBap\n",
       "NDUWHs0/AAAAGQGexWpC/wAHFS+Hz40Zt7apcu0uupmbiFkAAAAtQZrHSahBbJlMCH///qmWAACl\n",
       "8Lfh6pL1ABUmH8/uMCD+J2wzUYz6qlLwcYDhAAAAT0Ga6knhClJlMCH//qmWAAFJ7AmACpP//8I/\n",
       "X/LU3qevLW1wAP1sxkfq+PCd7J4f1oaojSJ+SD2cWWJWAjvs2+EoIDAootG2lNq9BoR+50IAAAAg\n",
       "QZ8IRTRMM/8ABUJWmhcyh+DPowBkZk1JWiwgTP2SEfcAAAAaAZ8pakL/AAcVL4fX/KSR97mhtqDG\n",
       "qw7EhYEAAACEQZssSahBaJlMFPD//qmWAAFKYf7KXP/Br/NQCEcPD/8HBwJmtLFtu/jk+E5sYxtC\n",
       "u5eQieD1fsswQ8e1wUMHNmMkeCAa4eprww2/PiS51DsybYnGuiame0JICsVMqsY6p/FqQ8Vri9Lj\n",
       "vlxF/UzTq9wTvMXl0KoKa8G9ZeS/4djrriaYAAAAHgGfS2pC/wAHFiJ99/VLAe0F/XSn4Lu5D8DD\n",
       "h0gCbgAAAFpBm05J4QpSZTBSw//+qZYAAVThb8I5ogALA6Bf/GEMnb8q1va1qHH3p/1SyRGXgO1o\n",
       "J9/LwlrMUEzrfLIN8czzOqryoUbSuMsOfPb03WdLG0QCJ2opaV6Ce7sAAAATAZ9takL/AAGSCZmp\n",
       "wnN/N4fGZwAAAG5Bm3FJ4Q6JlMCH//6plgAFt+XH83AAj0oSuvOk7JGl4gFwj9SU0+vb38dWweHW\n",
       "Tf4nKZZtgQNwOunZGjn+p5VaHXbzoEvgpDi3yAuB87Y+E/AOp8iYiE7l0o5iqaMT0mHISTcZ6RNp\n",
       "DDzvtPJgwQAAABpBn49FFTwz/wAE+gJ449zdrelaToJ+PlLHQAAAABQBn7BqQv8ABsAxJjrZGFyD\n",
       "VGWj4AAAANxBm7VJqEFomUwIf//+qZYABeOFvwZZwQAtkfC56Ic/9QIvRRMR7qXx48iqg8xUkrvm\n",
       "trQIg2cEAVpnhEzX6WqH41cPOYQ0nH/KamKttKUyuh5j7vV6Y5p47qVb//1ok+BWUKs9qWoEHaRJ\n",
       "f5By73pXzkBom6jFT7K+mLkddXDAUnSJK3CQNJf/OjKizX9n07ujv+5TH09TCxk0vH8s8DRP6xEA\n",
       "iJpTNPNzrALTr0pXCk7TJiyL+uf5hKzP5xzx9kKbP0nMiFQjdDJPHZiqyKK0BOrhR2ILmtN2Vjtx\n",
       "AAAAKEGf00URLDP/AAUdQX9/W9EXHy8QwAQdUt1Jn7yyflYJjYRtIYvBu6AAAAAZAZ/ydEL/AAbn\n",
       "vSnPuShfZNXvg2y0mKUxWwAAABkBn/RqQv8AA7aYxFfhilyDbX14sSg6MMS9AAAAjUGb+UmoQWyZ\n",
       "TAh///6plgAGC2f/BlnBAFXUJXfei5dGYvZQYh10OlJlq4xilcAzJWFwFhFJRkAc+TUMzJN0DHJc\n",
       "ZxCiyg/CZe/JjCFDE2QDUymgqdDWIP59ZYvWgbzJqm6eEYpsbrEKb8Gd+GEf4cLW/1VlEuJ9FwHF\n",
       "DgZVlO6aSvGjRIE1QGPorbumkAAAADBBnhdFFSwz/wAFQIwkACYUJGWm4WKbrpcVGnmJwZ1gsrxV\n",
       "Kn1g5wh9ql727USwQ3cAAAAcAZ42dEL/AAcBrvd5prBPYqPEDkVE4BYW7eMNSQAAABwBnjhqQv8A\n",
       "BxUxlWcT2driH4zqwISN5jCRYptSAAAAgkGaPUmoQWyZTAh///6plgAGAuj+AAh/xwqIxhQZQJuy\n",
       "K+HbF4lj3Lr8BqTgt0oYXUuVf4efH/0C3/+/gMfknmn30MBys+yHCOPbDWSfR/6J/MfNe86lWros\n",
       "LTLvNon16StXgzgBSV7Q/zSXJCteONWgG6twEEoZyiY6/KpC1rkbjBcAAAAfQZ5bRRUsM/8ABUFE\n",
       "Bb01X5aJlFWif4fjBq6XRDdSzgAAABgBnnp0Qv8ABxNaE2vHn4GkseshnpbH/C8AAAAVAZ58akL/\n",
       "AAO1714CumEk0QuKwKOhAAAAQ0GaYUmoQWyZTAh///6plgAF3yXrU9qwzAakuAWUid0AXn8krHmv\n",
       "ernrIPxbC+v+LvxC2TpUp+3xPYGJdyM8gx/dpWAAAAAZQZ6fRRUsM/8ABR1BfSCTR/lb04U331zr\n",
       "zAAAABQBnr50Qv8ABue+Fm3IconDSCpj4QAAABEBnqBqQv8AAZJUGOOI/qgV8AAAAHFBmqVJqEFs\n",
       "mUwIf//+qZYABgiO1LhE7kPgczu72kbuwAtggL/9/AY/JPNP57UMfgSINIFilPIsbmgmXkxjkEM3\n",
       "IOBy/gAHhqRw6v0leVAojaftpPhkb8MYCCb9XA4DxHUX3qiT+mNIdkwzrmhmtgR7MQAAAB5BnsNF\n",
       "FSwz/wAJ9AcFuMieAKqdgWCh2DORJ4O8zBcAAAAWAZ7idEL/AAa/vSm/CbtjAux3Fb+guQAAABcB\n",
       "nuRqQv8ADYKdK3tzqxDlR3H3F0HEgwAAAGdBmulJqEFsmUwIf//+qZYADAVLZ52V2zNSeIzYWmW2\n",
       "nzNTOb3daSHqzIOd2UhsqM7aiXpetR9OpT30s71/DKJwirbxKJEK9+xpP/3JwAHktVWX3WanJKOu\n",
       "YvFoBeBdEcpMscc1bIBxAAAAG0GfB0UVLDP/AAqEBPH5q6RCDEXvhsAY6DqobQAAABYBnyZ0Qv8A\n",
       "DX+AG7hXXfuqB7Ved/i4AAAAFwGfKGpC/wAOJ71vUBrUizHmPFYeVVOAAAAAfEGbLUmoQWyZTAh/\n",
       "//6plgALfwt+DLOCATCXD/8GcQJmtLE++/sOXbsobgwbkevbamSWkO/xX39ZNsMTauMrWvRMPyjf\n",
       "PNQ2FdscEkTSw/9Z5K1eUruLQ0m0WnZyF1AnuL1PJv3NPTpBH+7YrfbbtFNeClBi4hKmHDGg7XcA\n",
       "AAApQZ9LRRUsM/8ACfU0ntlAuLvz90LGtLd+PUbwAB9BJdzU98+3Z0vSWPAAAAAaAZ9qdEL/AA1/\n",
       "gCqnFKDY/1DWQD10zVpgBvQAAAAZAZ9sakL/AA2CmQ/dJkccLuq4LhJiqLgN6QAAAI9Bm3FJqEFs\n",
       "mUwIf//+qZYABiwfzS/iPvboD4wO/Dno7fBUvnoAFIL8/+v4E7mJYiXT6kg9OdINAqHCoeL2cO4j\n",
       "ltMzg/4ZnpuyV7qmnM1XtDe57mxx3WFRNFoXRURXMfFHLsWCPnFo63JuWRFLI7zuQxtL9aiyySwO\n",
       "VFqZeWBx8ucr8eox1+fO+q1q5mMycQAAAB5Bn49FFSwz/wAFZUXrMUmYroIVyK+uUQVJwTtslx0A\n",
       "AAAYAZ+udEL/AAc/XKqYZGuSK4kvUvMqMoz4AAAAFAGfsGpC/wAG6C/9EfKxKHpNxlo6AAAAPEGb\n",
       "tUmoQWyZTAh///6plgALxwt6H500YIATDnf/z+BMUQURlJNnMxWV7mEqNw+KgiKIusPL4rnBWUBb\n",
       "aQAAABxBn9NFFSwz/wAKPATykpS7dct98I6BRKnzmkuIAAAAFgGf8nRC/wADD+DYYdTGEFXvb6Z9\n",
       "eYAAAAAUAZ/0akL/AA3Sl/isVDkKzupyybkAAACSQZv5SahBbJlMCHf//qmWABgtn/A0boBCPhpX\n",
       "Id1AU8tOdOqhyNu/zKrMt6btt722KCaNec90jE02GsqcrJ6GKokCK9G9kYhKlRqV//KsMuGq1MdJ\n",
       "oxsQ6ZywZuhYa6HPJh6W/v5Tffio/4kpqzW3xioOUIuiTaNgaWXL3xoDQ5+a6RVgWQJ0fKyp7QHK\n",
       "g6f6LnYAAAAgQZ4XRRUsM/8AFQgJ5XOG50MrEHTXRWdpnpz2xQd+hcEAAAAWAZ42dEL/AA4rMiJH\n",
       "0QMFpRJ63RZvMQAAABkBnjhqQv8AHFS+H4dfhI1ftrQ0JuQNnuO6AAAANEGaOkmoQWyZTAh///6p\n",
       "lgAYEdyfswArehgf/GEMnb8q1va4eNeht3QOMnSWeJzEIesgccEAAAA4QZpdSeEKUmUwIf/+qZYA\n",
       "F23JGeSYsk8PwO+ZNyXqHEAJaUv/7/A6Eh3V/NCiH1Cz+WCfq6Oix/gAAAAfQZ57RTRMM/8AFHUQ\n",
       "F0h79ijJ3JLu2a3jFdy9vS2UEQAAABkBnpxqQv8ADoJmYwWmODnAizYmUGI+UOUFAAAAl0GagUmo\n",
       "QWiZTAh3//6plgAWbhb4LN/EAJpPEP/IYRbhZjcOM3z6vgNEFPRtzy/exJxhhpJiLhMFpH6HkuDs\n",
       "YQcqApAb8EDOYI/A/dGxAOLf/bowTX+Oss86I/3WP9KEqYgVrIR9F6cZHpvpf0/qteBMzZQCCjdz\n",
       "Iah25PZli9eGlrNuYDFxkeJ1u+cWjjFAnfDgCgz8M7oAAAAkQZ6/RREsM/8AE1uICAPEru5/yxgi\n",
       "k5cHtO3pxXGZQ6lrUJOAAAAAGAGe3nRC/wAO2xL/fPi6BAJbOGdsNAB/gQAAABgBnsBqQv8AGmC/\n",
       "8BMTUtkMlMCUqrk9n0IAAABvQZrFSahBbJlMCG///qeEAC1bckAHSuS7q/UGlVtn1xMc7TSVuf4F\n",
       "x+TLX+wxH5U16RzuuEzeKB/D5EgPbNf0lBEF24AvVxixZs28H+Sv1kXdtSYgsK34Bni04DnjlW6y\n",
       "rieJma9J3CXX3ngWGs0DAAAAIkGe40UVLDP/ABPlBfxyArNhTGg67TCXe9wMF0pcbMfAkLAAAAAZ\n",
       "AZ8CdEL/ABsGwVxcxMRh68JmaYkUlTKYWQAAABgBnwRqQv8ABsFOgjt3KkJZZ199MipQPMEAAACL\n",
       "QZsHSahBbJlMFEwv//6MsAC8b4+G2mEoAIg8aWkMK85OWpQUYU7fhPAct5JNak7Ws4bijYhl+L9I\n",
       "knfjcgvSefIEmf8Dwq2JhC7KKGgXXB9Wea7WSmsT9RqdaczzKPdR0TSzQ/AJSy55SW5iet8Mgca4\n",
       "+DFTy+NJnhUQ4UPG28szT5XqM9zSbAfqQQAAACMBnyZqQv8AHFASsAGxDTqEqudTobWzaa5S53uA\n",
       "QFWpXjU+YQAADF5tb292AAAAbG12aGQAAAAAAAAAAAAAAAAAAAPoAAAu4AABAAABAAAAAAAAAAAA\n",
       "AAAAAQAAAAAAAAAAAAAAAAAAAAEAAAAAAAAAAAAAAAAAAEAAAAAAAAAAAAAAAAAAAAAAAAAAAAAA\n",
       "AAAAAAAAAAACAAALiHRyYWsAAABcdGtoZAAAAAMAAAAAAAAAAAAAAAEAAAAAAAAu4AAAAAAAAAAA\n",
       "AAAAAAAAAAAAAQAAAAAAAAAAAAAAAAAAAAEAAAAAAAAAAAAAAAAAAEAAAAABsAAAASAAAAAAACRl\n",
       "ZHRzAAAAHGVsc3QAAAAAAAAAAQAALuAAAAYAAAEAAAAACwBtZGlhAAAAIG1kaGQAAAAAAAAAAAAA\n",
       "AAAAADIAAAJYAFXEAAAAAAAtaGRscgAAAAAAAAAAdmlkZQAAAAAAAAAAAAAAAFZpZGVvSGFuZGxl\n",
       "cgAAAAqrbWluZgAAABR2bWhkAAAAAQAAAAAAAAAAAAAAJGRpbmYAAAAcZHJlZgAAAAAAAAABAAAA\n",
       "DHVybCAAAAABAAAKa3N0YmwAAACzc3RzZAAAAAAAAAABAAAAo2F2YzEAAAAAAAAAAQAAAAAAAAAA\n",
       "AAAAAAAAAAABsAEgAEgAAABIAAAAAAAAAAEAAAAAAAAAAAAAAAAAAAAAAAAAAAAAAAAAAAAAAAAA\n",
       "AAAY//8AAAAxYXZjQwFkABX/4QAYZ2QAFazZQbCWhAAAAwAMAAADAZA8WLZYAQAGaOvjyyLAAAAA\n",
       "HHV1aWRraEDyXyRPxbo5pRvPAyPzAAAAAAAAABhzdHRzAAAAAAAAAAEAAADIAAADAAAAABRzdHNz\n",
       "AAAAAAAAAAEAAAABAAAGIGN0dHMAAAAAAAAAwgAAAAEAAAYAAAAAAQAADwAAAAABAAAGAAAAAAEA\n",
       "AAAAAAAAAQAAAwAAAAABAAAPAAAAAAEAAAYAAAAAAQAAAAAAAAABAAADAAAAAAEAAA8AAAAAAQAA\n",
       "BgAAAAABAAAAAAAAAAEAAAMAAAAAAQAADwAAAAABAAAGAAAAAAEAAAAAAAAAAQAAAwAAAAABAAAM\n",
       "AAAAAAIAAAMAAAAAAQAADwAAAAABAAAGAAAAAAEAAAAAAAAAAQAAAwAAAAABAAAPAAAAAAEAAAYA\n",
       "AAAAAQAAAAAAAAABAAADAAAAAAEAAA8AAAAAAQAABgAAAAABAAAAAAAAAAEAAAMAAAAAAQAADwAA\n",
       "AAABAAAGAAAAAAEAAAAAAAAAAQAAAwAAAAABAAAPAAAAAAEAAAYAAAAAAQAAAAAAAAABAAADAAAA\n",
       "AAEAAA8AAAAAAQAABgAAAAABAAAAAAAAAAEAAAMAAAAAAQAADwAAAAABAAAGAAAAAAEAAAAAAAAA\n",
       "AQAAAwAAAAABAAAPAAAAAAEAAAYAAAAAAQAAAAAAAAABAAADAAAAAAEAAA8AAAAAAQAABgAAAAAB\n",
       "AAAAAAAAAAEAAAMAAAAAAQAACQAAAAABAAADAAAAAAEAAA8AAAAAAQAABgAAAAABAAAAAAAAAAEA\n",
       "AAMAAAAAAQAADwAAAAABAAAGAAAAAAEAAAAAAAAAAQAAAwAAAAABAAAPAAAAAAEAAAYAAAAAAQAA\n",
       "AAAAAAABAAADAAAAAAEAAA8AAAAAAQAABgAAAAABAAAAAAAAAAEAAAMAAAAAAQAADwAAAAABAAAG\n",
       "AAAAAAEAAAAAAAAAAQAAAwAAAAABAAAPAAAAAAEAAAYAAAAAAQAAAAAAAAABAAADAAAAAAEAAA8A\n",
       "AAAAAQAABgAAAAABAAAAAAAAAAEAAAMAAAAAAQAADwAAAAABAAAGAAAAAAEAAAAAAAAAAQAAAwAA\n",
       "AAABAAAPAAAAAAEAAAYAAAAAAQAAAAAAAAABAAADAAAAAAEAAAkAAAAAAQAAAwAAAAABAAAPAAAA\n",
       "AAEAAAYAAAAAAQAAAAAAAAABAAADAAAAAAEAAAwAAAAAAgAAAwAAAAABAAAGAAAAAAEAAA8AAAAA\n",
       "AQAABgAAAAABAAAAAAAAAAEAAAMAAAAAAQAADwAAAAABAAAGAAAAAAEAAAAAAAAAAQAAAwAAAAAB\n",
       "AAAMAAAAAAIAAAMAAAAAAQAADwAAAAABAAAGAAAAAAEAAAAAAAAAAQAAAwAAAAABAAAPAAAAAAEA\n",
       "AAYAAAAAAQAAAAAAAAABAAADAAAAAAEAAA8AAAAAAQAABgAAAAABAAAAAAAAAAEAAAMAAAAAAQAA\n",
       "DwAAAAABAAAGAAAAAAEAAAAAAAAAAQAAAwAAAAABAAAPAAAAAAEAAAYAAAAAAQAAAAAAAAABAAAD\n",
       "AAAAAAEAAAYAAAAAAQAADAAAAAACAAADAAAAAAEAAAkAAAAAAQAAAwAAAAABAAAJAAAAAAEAAAMA\n",
       "AAAAAQAADAAAAAACAAADAAAAAAEAAA8AAAAAAQAABgAAAAABAAAAAAAAAAEAAAMAAAAAAQAADwAA\n",
       "AAABAAAGAAAAAAEAAAAAAAAAAQAAAwAAAAABAAAPAAAAAAEAAAYAAAAAAQAAAAAAAAABAAADAAAA\n",
       "AAEAAA8AAAAAAQAABgAAAAABAAAAAAAAAAEAAAMAAAAAAQAADwAAAAABAAAGAAAAAAEAAAAAAAAA\n",
       "AQAAAwAAAAABAAAPAAAAAAEAAAYAAAAAAQAAAAAAAAABAAADAAAAAAEAAA8AAAAAAQAABgAAAAAB\n",
       "AAAAAAAAAAEAAAMAAAAAAQAADwAAAAABAAAGAAAAAAEAAAAAAAAAAQAAAwAAAAABAAAPAAAAAAEA\n",
       "AAYAAAAAAQAAAAAAAAABAAADAAAAAAEAAA8AAAAAAQAABgAAAAABAAAAAAAAAAEAAAMAAAAAAQAA\n",
       "BgAAAAABAAAMAAAAAAIAAAMAAAAAAQAADwAAAAABAAAGAAAAAAEAAAAAAAAAAQAAAwAAAAABAAAP\n",
       "AAAAAAEAAAYAAAAAAQAAAAAAAAABAAADAAAAAAEAAAkAAAAAAQAAAwAAAAAcc3RzYwAAAAAAAAAB\n",
       "AAAAAQAAAMgAAAABAAADNHN0c3oAAAAAAAAAAAAAAMgAAAN7AAAA/gAAADoAAAAaAAAAKgAAAQIA\n",
       "AAAwAAAAHwAAABsAAACqAAAAKAAAABwAAAAbAAAA7AAAACYAAAAcAAAAHQAAAG4AAAAlAAAAHAAA\n",
       "AEwAAAArAAAAHQAAAB4AAABjAAAAIwAAAB4AAAAaAAAAggAAACYAAAAdAAAAHgAAAIkAAAAmAAAA\n",
       "LwAAAB4AAACNAAAAQgAAACEAAAAjAAAAqQAAACsAAAAhAAAAIAAAAIIAAABGAAAAIQAAAB0AAAA0\n",
       "AAAANQAAAB4AAAAeAAAAfAAAACgAAAAcAAAAHwAAAFoAAAAgAAAAiAAAACUAAAAbAAAAHQAAAFQA\n",
       "AAAiAAAAGwAAABsAAABhAAAAJQAAAB4AAAAbAAAAZAAAACUAAAAcAAAAGgAAAEkAAAAnAAAAHwAA\n",
       "ABoAAABEAAAAJgAAABwAAAAbAAAAwgAAACoAAAAfAAAAHwAAAG8AAAAoAAAAHAAAACAAAAChAAAA\n",
       "JwAAAB4AAAAfAAAAdgAAACIAAACFAAAAKAAAACEAAAAdAAAAfQAAACcAAAAdAAAAPAAAAJgAAAAq\n",
       "AAAAHwAAAB4AAABnAAAAKgAAABwAAAAdAAAAXgAAACkAAAAdAAAAkAAAAC0AAAAfAAAAHwAAAGQA\n",
       "AABFAAAAIAAAACIAAACdAAAANAAAAB8AAAAhAAAAuwAAACsAAAAfAAAAHwAAAIAAAAAmAAAAHgAA\n",
       "AB0AAAAxAAAAUwAAACQAAAAeAAAAiAAAACIAAABeAAAAFwAAAHIAAAAeAAAAGAAAAOAAAAAsAAAA\n",
       "HQAAAB0AAACRAAAANAAAACAAAAAgAAAAhgAAACMAAAAcAAAAGQAAAEcAAAAdAAAAGAAAABUAAAB1\n",
       "AAAAIgAAABoAAAAbAAAAawAAAB8AAAAaAAAAGwAAAIAAAAAtAAAAHgAAAB0AAACTAAAAIgAAABwA\n",
       "AAAYAAAAQAAAACAAAAAaAAAAGAAAAJYAAAAkAAAAGgAAAB0AAAA4AAAAPAAAACMAAAAdAAAAmwAA\n",
       "ACgAAAAcAAAAHAAAAHMAAAAmAAAAHQAAABwAAACPAAAAJwAAABRzdGNvAAAAAAAAAAEAAAAsAAAA\n",
       "YnVkdGEAAABabWV0YQAAAAAAAAAhaGRscgAAAAAAAAAAbWRpcmFwcGwAAAAAAAAAAAAAAAAtaWxz\n",
       "dAAAACWpdG9vAAAAHWRhdGEAAAABAAAAAExhdmY1OC4yMC4xMDA=\n",
       "\">\n",
       "  Your browser does not support the video tag.\n",
       "</video>"
      ],
      "text/plain": [
       "<IPython.core.display.HTML object>"
      ]
     },
     "execution_count": 25,
     "metadata": {},
     "output_type": "execute_result"
    },
    {
     "data": {
      "image/png": "[encoded data removed]",
      "text/plain": [
       "<Figure size 432x288 with 1 Axes>"
      ]
     },
     "metadata": {
      "needs_background": "light"
     },
     "output_type": "display_data"
    }
   ],
   "source": [
    "import  matplotlib.animation\n",
    "from matplotlib import animation\n",
    "\n",
    "from IPython.display import HTML\n",
    "%matplotlib inline\n",
    "\n",
    "def plot_images(img_list):\n",
    "  def init():\n",
    "    img.set_data(img_list[0])\n",
    "    return (img,)\n",
    "\n",
    "  def animate(i):\n",
    "    img.set_data(img_list[i])\n",
    "    return (img,)\n",
    "\n",
    "  fig = plt.figure()\n",
    "  ax = fig.gca()\n",
    "  plt.axis('off')\n",
    "  img = ax.imshow(img_list[0])\n",
    "  anim = animation.FuncAnimation(fig, animate, \n",
    "                                 init_func=init,\n",
    "                                 frames=len(img_list), \n",
    "                                 interval=60, \n",
    "                                 blit=True)\n",
    "  return anim\n",
    "\n",
    "imgs = mk_shape(size=25, num_blocks=200, anim=True)\n",
    "\n",
    "HTML(plot_images(imgs).to_html5_video())"
   ]
  },
  {
   "cell_type": "code",
   "execution_count": 26,
   "metadata": {},
   "outputs": [
    {
     "name": "stdout",
     "output_type": "stream",
     "text": [
      "[master 5a20ddc] web\n",
      " 1 file changed, 779 insertions(+), 765 deletions(-)\n",
      " rewrite random_shapes.ipynb (71%)\n",
      "Enumerating objects: 5, done.\n",
      "Counting objects: 100% (5/5), done.\n",
      "Delta compression using up to 4 threads\n",
      "Compressing objects: 100% (3/3), done.\n",
      "Writing objects: 100% (3/3), 28.87 KiB | 953.00 KiB/s, done.\n",
      "Total 3 (delta 1), reused 0 (delta 0)\n",
      "remote: Resolving deltas: 100% (1/1), completed with 1 local object.\u001b[K\n",
      "To https://github.com/macbuse/PROGRAMMATION.git\n",
      "   83bb543..5a20ddc  master -> master\n"
     ]
    }
   ],
   "source": [
    "! ./.g\n"
   ]
  },
  {
   "cell_type": "code",
   "execution_count": null,
   "metadata": {},
   "outputs": [],
   "source": []
  },
  {
   "cell_type": "code",
   "execution_count": null,
   "metadata": {},
   "outputs": [],
   "source": []
  }
 ],
 "metadata": {
  "kernelspec": {
   "display_name": "Python 3",
   "language": "python",
   "name": "python3"
  },
  "language_info": {
   "codemirror_mode": {
    "name": "ipython",
    "version": 3
   },
   "file_extension": ".py",
   "mimetype": "text/x-python",
   "name": "python",
   "nbconvert_exporter": "python",
   "pygments_lexer": "ipython3",
   "version": "3.6.5"
  }
 },
 "nbformat": 4,
 "nbformat_minor": 2
}
